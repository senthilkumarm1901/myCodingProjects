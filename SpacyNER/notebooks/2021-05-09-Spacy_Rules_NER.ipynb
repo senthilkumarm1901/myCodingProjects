{
 "cells": [
  {
   "cell_type": "markdown",
   "id": "5cdcf1ae",
   "metadata": {},
   "source": [
    "# How to Leverage Spacy Rules NER\n",
    "> This blog post outlines the important features in Spacy Rules NER\n",
    "- toc: true\n",
    "- branch: master\n",
    "- author: Senthil Kumar\n",
    "- badges: true\n",
    "- comments: true\n",
    "- categories: [spacy/NER]\n",
    "- image: images/spacy/spacy_nlp_pipeline.png\n",
    "- hide: false"
   ]
  },
  {
   "cell_type": "markdown",
   "id": "c6840988",
   "metadata": {},
   "source": [
    "## Introduction to SpaCy and NER"
   ]
  },
  {
   "cell_type": "markdown",
   "id": "572dd175",
   "metadata": {},
   "source": [
    "### About SpaCy\n",
    "- SpaCy is a NLP library offering easy-to-use Python API for many information extraction and machine learning tasks in text data\n",
    "- They are internally written in Cython and hence occupies low memory foot print with its `small` models and are quite fast with decent accuracy\n",
    "\n",
    "\n",
    "\n",
    "Source:\n",
    "- [more about spaCy](https://spacy.io/)"
   ]
  },
  {
   "cell_type": "markdown",
   "id": "128d5385",
   "metadata": {},
   "source": [
    "### What is NER\n",
    "\n",
    "> Named-entity recognition (NER) (also known as (named) entity identification, entity chunking, and entity extraction) is `a subtask of information extraction` that seeks to locate and classify named entities mentioned in unstructured text into pre-defined categories\n",
    "\n",
    "Source: [Wikipedia Article on NER](https://en.wikipedia.org/wiki/Named-entity_recognition)\n",
    "\n",
    "> In information extraction, a named entity is a real-world object, such as a person, location, organization, product, etc., that can be denoted with a proper noun. <br>\n",
    "> For example, in the sentence - \"Biden is the president of the United States\", <br>\n",
    "> \"Biden\" and \"the United States\" are `named entities` (proper nouns). \"president\" is not a named entity\n",
    "\n",
    "Source: [Wikipedia Article on Named Entities](https://en.wikipedia.org/wiki/Named_entity)"
   ]
  },
  {
   "cell_type": "markdown",
   "id": "8c7f457a",
   "metadata": {},
   "source": [
    "### The Spacy Version used here"
   ]
  },
  {
   "cell_type": "code",
   "execution_count": 74,
   "id": "dd812f48",
   "metadata": {},
   "outputs": [
    {
     "name": "stdout",
     "output_type": "stream",
     "text": [
      "\u001b[2K\u001b[38;5;2m✔ Loaded compatibility table\u001b[0m\n",
      "\u001b[1m\n",
      "================= Installed pipeline packages (spaCy v3.1.3) =================\u001b[0m\n",
      "\u001b[38;5;4mℹ spaCy installation: /usr/local/lib/python3.7/dist-packages/spacy\u001b[0m\n",
      "\n",
      "NAME             SPACY            VERSION                            \n",
      "en_core_web_sm   >=3.1.0,<3.2.0   \u001b[38;5;2m3.1.0\u001b[0m   \u001b[38;5;2m✔\u001b[0m\n",
      "\n"
     ]
    }
   ],
   "source": [
    "#collapse_show\n",
    "!python3 -m spacy validate"
   ]
  },
  {
   "cell_type": "markdown",
   "id": "350b55e4",
   "metadata": {},
   "source": [
    "## 1. Basic Featues of SpaCy Rules NER"
   ]
  },
  {
   "cell_type": "markdown",
   "id": "baeafd39",
   "metadata": {},
   "source": [
    "### 1A. About Token Matcher\n",
    "- Spacy's Token `Matcher` lets you prepare Spacy Rules at token level invoking all complex\n",
    "- Example 1 from Spacy Documentation\n",
    "\n",
    "```python\n",
    "patterns = [\n",
    "    [{\"LOWER\": \"hello\"}, {\"IS_PUNCT\": True}, {\"LOWER\": \"world\"}], # captures any case variant of \"hello-world\", \"hello!world\"\n",
    "    [{\"LOWER\": \"hello\"}, {\"LOWER\": \"world\"}] # captures any case variant of \"hello world\"\n",
    "]\n",
    "```\n",
    "\n",
    "- Example 2 using Token-level Regex\n",
    "\n",
    "```python\n",
    "pattern = [{\"TEXT\": {\"REGEX\": \"^[Uu](\\.?|nited)$\"}}, #\n",
    "           {\"TEXT\": {\"REGEX\": \"^[Ss](\\.?|tates)$\"}},\n",
    "           {\"LOWER\": \"president\"}] # captures (U.S or US or United States or united states) President\n",
    "```\n",
    "\n",
    "### 1B. About Phrase Matcher\n",
    "\n",
    "- If we have a huge list of phrases in a list or in a csv file, phrase matcher can be applied directly \n",
    "\n",
    "```python\n",
    "import spacy\n",
    "from spacy.matcher import PhraseMatcher\n",
    "\n",
    "nlp = spacy.load(\"en_core_web_sm\")\n",
    "matcher = PhraseMatcher(nlp.vocab)\n",
    "terms = [\"Barack Obama\", \"Angela Merkel\", \"Washington, D.C.\"]\n",
    "# Only run nlp.make_doc to speed things up\n",
    "patterns = [nlp.make_doc(text) for text in terms]\n",
    "matcher.add(\"TerminologyList\", patterns)\n",
    "\n",
    "doc = nlp(\"German Chancellor Angela Merkel and US President Barack Obama \"\n",
    "          \"converse in the Oval Office inside the White House in Washington, D.C.\")\n",
    "matches = matcher(doc)\n",
    "for match_id, start, end in matches:\n",
    "    span = doc[start:end]\n",
    "    print(span.text)\n",
    "```\n",
    "source: https://spacy.io/usage/rule-based-matching#adding-phrase-patterns"
   ]
  },
  {
   "cell_type": "markdown",
   "id": "096b6a3c",
   "metadata": {},
   "source": [
    "### 1C. Explaining Token and Phrase Matchers with a `MODEL_NAMES NER` Capture"
   ]
  },
  {
   "cell_type": "code",
   "execution_count": 75,
   "id": "aa16e32b",
   "metadata": {},
   "outputs": [],
   "source": [
    "#collapse_hide\n",
    "# goal: to capture Car Models to their corresponding Makes\n",
    "sample_sentence_1 = \"Go for ford mustang mache variants. Mustang has a deceivingly huge trunk and good horse power. If you want reliability, Toyota Lexus should be your choice. Lexus has good body style too\"\n",
    "sample_sentence_2 = \"Considering the harsh winters here, I am considering 2014 Nissan Murano or the '14 Subaru Forester\"\n",
    "sample_sentence_3 = \"Among used cars, I am still not sure what to choose - Civic or Corolla?\"\n",
    "\n",
    "sample_models_sentences = [sample_sentence_1, \n",
    "                    sample_sentence_2,\n",
    "                    sample_sentence_3\n",
    "                   ]"
   ]
  },
  {
   "cell_type": "code",
   "execution_count": 76,
   "id": "5382f8da",
   "metadata": {},
   "outputs": [],
   "source": [
    "#collapse-hide\n",
    "import spacy\n",
    "from spacy.matcher import Matcher, PhraseMatcher\n",
    "from spacy.tokens import Span\n",
    "from spacy.util import filter_spans\n",
    "from spacy import displacy\n",
    "\n",
    "model_names_nlp = spacy.load('en_core_web_sm',disable=['ner'])\n",
    "matcher = Matcher(model_names_nlp.vocab)\n",
    "\n",
    "# pattern rules matching every token\n",
    "ford_pattern = [{\"LOWER\": \"ford\", \"OP\":\"?\"},\n",
    "                   {\"LOWER\": \"mustang\"},\n",
    "                   {\"LOWER\":{\"IN\":[\"mache\",\"gt\",\"bulitt\"]},\"OP\":\"*\"}\n",
    "                  ]\n",
    "toyota_pattern = [{\"LOWER\": \"toyota\",\"OP\":\"?\"},\n",
    "                 {\"LOWER\": {\"IN\":[\"lexus\",\"corolla\",\"camry\"]}}\n",
    "                ]\n",
    "\n",
    "honda_pattern = [{\"LOWER\": \"honda\",\"OP\":\"?\"},\n",
    "                 {\"LOWER\": {\"IN\":[\"civic\",\"accord\"]}}\n",
    "                ]\n",
    "\n",
    "token_matcher_patterns = {\"FORD\": ford_pattern,\n",
    "                          \"TOYOTA\": toyota_pattern,\n",
    "                          \"HONDA\": honda_pattern,\n",
    "                         }\n",
    "\n",
    "# phrase pattern looks for exact match\n",
    "nissan_phrase_pattern = [\"Nissan Murano\", \"Murano\", \"murano\", \"nissan murano\"]\n",
    "subaru_phrase_pattern = [\"Subaru Forester\", \"Forester\", \"forester\", \"subaru forester\"]\n",
    "\n",
    "phrase_matcher_patterns = {\"NISSAN\": nissan_phrase_pattern,\n",
    "                           \"SUBARU\": subaru_phrase_pattern\n",
    "                          }\n",
    "\n",
    "def add_token_matcher_and_phrase_matcher_patterns(nlp_model,\n",
    "                                                  token_patterns_dict=token_matcher_patterns,\n",
    "                                                  phrase_patterns_dict=phrase_matcher_patterns\n",
    "                                                 ):\n",
    "    token_matcher = Matcher(nlp_model.vocab)\n",
    "    for key, value in token_patterns_dict.items():\n",
    "        token_matcher.add(key,[value])\n",
    "        \n",
    "    phrase_matcher = PhraseMatcher(nlp_model.vocab)\n",
    "    for key, terms_list in phrase_patterns_dict.items():\n",
    "        phrase_patterns = [nlp_model.make_doc(text) for text in terms_list]\n",
    "        phrase_matcher.add(key, phrase_patterns)\n",
    "    return token_matcher, phrase_matcher\n",
    "\n",
    "doc = model_names_nlp(sample_sentence_1)\n",
    "\n",
    "def modify_doc(token_matcher,\n",
    "               phrase_matcher,\n",
    "               doc):\n",
    "    original_ents = list(doc.ents)\n",
    "    matches = token_matcher(doc) + phrase_matcher(doc)\n",
    "    for match_id, start, end in matches:\n",
    "        span = Span(doc, start, end, match_id)\n",
    "        original_ents.append(span)\n",
    "    filtered = filter_spans(original_ents)\n",
    "    doc.ents = filtered\n",
    "    return doc"
   ]
  },
  {
   "cell_type": "code",
   "execution_count": 77,
   "id": "b3437ed7",
   "metadata": {
    "scrolled": true
   },
   "outputs": [
    {
     "name": "stdout",
     "output_type": "stream",
     "text": [
      "\u001b[1mProcessing Sentence 0 \u001b[1m\n"
     ]
    },
    {
     "data": {
      "text/html": [
       "<span class=\"tex2jax_ignore\"><div class=\"entities\" style=\"line-height: 2.5; direction: ltr\">Go for <mark class=\"entity\" style=\"background: #ADD8E6; padding: 0.45em 0.6em; margin: 0 0.25em; line-height: 1; border-radius: 0.35em;\">ford mustang mache<span style=\"font-size: 0.8em; font-weight: bold; line-height: 1; border-radius: 0.35em; vertical-align: middle; margin-left: 0.5rem\">FORD</span></mark> variants. <mark class=\"entity\" style=\"background: #ADD8E6; padding: 0.45em 0.6em; margin: 0 0.25em; line-height: 1; border-radius: 0.35em;\">Mustang<span style=\"font-size: 0.8em; font-weight: bold; line-height: 1; border-radius: 0.35em; vertical-align: middle; margin-left: 0.5rem\">FORD</span></mark> has a deceivingly huge trunk and good horse power. If you want reliability, <mark class=\"entity\" style=\"background: #A865C9; padding: 0.45em 0.6em; margin: 0 0.25em; line-height: 1; border-radius: 0.35em;\">Toyota Lexus<span style=\"font-size: 0.8em; font-weight: bold; line-height: 1; border-radius: 0.35em; vertical-align: middle; margin-left: 0.5rem\">TOYOTA</span></mark> should be your choice. <mark class=\"entity\" style=\"background: #A865C9; padding: 0.45em 0.6em; margin: 0 0.25em; line-height: 1; border-radius: 0.35em;\">Lexus<span style=\"font-size: 0.8em; font-weight: bold; line-height: 1; border-radius: 0.35em; vertical-align: middle; margin-left: 0.5rem\">TOYOTA</span></mark> has good body style too</div></span>"
      ],
      "text/plain": [
       "<IPython.core.display.HTML object>"
      ]
     },
     "metadata": {},
     "output_type": "display_data"
    },
    {
     "name": "stdout",
     "output_type": "stream",
     "text": [
      "***************\n",
      "\u001b[1mProcessing Sentence 1 \u001b[1m\n"
     ]
    },
    {
     "data": {
      "text/html": [
       "<span class=\"tex2jax_ignore\"><div class=\"entities\" style=\"line-height: 2.5; direction: ltr\">Considering the harsh winters here, I am considering 2014 <mark class=\"entity\" style=\"background: #FFD580; padding: 0.45em 0.6em; margin: 0 0.25em; line-height: 1; border-radius: 0.35em;\">Nissan Murano<span style=\"font-size: 0.8em; font-weight: bold; line-height: 1; border-radius: 0.35em; vertical-align: middle; margin-left: 0.5rem\">NISSAN</span></mark> or the '14 <mark class=\"entity\" style=\"background:  #FFCCCB; padding: 0.45em 0.6em; margin: 0 0.25em; line-height: 1; border-radius: 0.35em;\">Subaru Forester<span style=\"font-size: 0.8em; font-weight: bold; line-height: 1; border-radius: 0.35em; vertical-align: middle; margin-left: 0.5rem\">SUBARU</span></mark></div></span>"
      ],
      "text/plain": [
       "<IPython.core.display.HTML object>"
      ]
     },
     "metadata": {},
     "output_type": "display_data"
    },
    {
     "name": "stdout",
     "output_type": "stream",
     "text": [
      "***************\n",
      "\u001b[1mProcessing Sentence 2 \u001b[1m\n"
     ]
    },
    {
     "data": {
      "text/html": [
       "<span class=\"tex2jax_ignore\"><div class=\"entities\" style=\"line-height: 2.5; direction: ltr\">Among used cars, I am still not sure what to choose - <mark class=\"entity\" style=\"background: #ffcccb; padding: 0.45em 0.6em; margin: 0 0.25em; line-height: 1; border-radius: 0.35em;\">Civic<span style=\"font-size: 0.8em; font-weight: bold; line-height: 1; border-radius: 0.35em; vertical-align: middle; margin-left: 0.5rem\">HONDA</span></mark> or <mark class=\"entity\" style=\"background: #A865C9; padding: 0.45em 0.6em; margin: 0 0.25em; line-height: 1; border-radius: 0.35em;\">Corolla<span style=\"font-size: 0.8em; font-weight: bold; line-height: 1; border-radius: 0.35em; vertical-align: middle; margin-left: 0.5rem\">TOYOTA</span></mark>?</div></span>"
      ],
      "text/plain": [
       "<IPython.core.display.HTML object>"
      ]
     },
     "metadata": {},
     "output_type": "display_data"
    },
    {
     "name": "stdout",
     "output_type": "stream",
     "text": [
      "***************\n"
     ]
    }
   ],
   "source": [
    "# collapse-show\n",
    "token_matcher, phrase_matcher = add_token_matcher_and_phrase_matcher_patterns(model_names_nlp, \n",
    "                                                                              token_matcher_patterns,\n",
    "                                                                              phrase_matcher_patterns\n",
    "                                                                             )\n",
    "modelnames_dict = {\n",
    "    \"HONDA\": \"#ffcccb\",  # light red (pink)\n",
    "    \"TOYOTA\": \"#A865C9\",  # light purple\n",
    "    \"NISSAN\": \"#FFD580\",  # light orange\n",
    "    \"SUBARU\": \" #FFCCCB\",  # green\n",
    "    \"FORD\": \"#ADD8E6\"  # light blue\n",
    "}\n",
    "\n",
    "models = list(modelnames_dict.keys())\n",
    "\n",
    "options_dict = {\"ents\": models,\n",
    "           \"colors\": modelnames_dict\n",
    "          }\n",
    "\n",
    "\n",
    "\n",
    "for i, doc in enumerate(model_names_nlp.pipe(sample_models_sentences,\n",
    "             as_tuples=False\n",
    "            )):\n",
    "    new_doc = modify_doc(token_matcher,\n",
    "                         phrase_matcher,\n",
    "                         doc\n",
    "                        )\n",
    "    print(f\"\\033[1mProcessing Sentence {i} \\033[1m\")\n",
    "    displacy.render(new_doc,\n",
    "                    style='ent',\n",
    "                    options=options_dict,\n",
    "                    minify=True\n",
    "                   )\n",
    "    print(\"***************\")"
   ]
  },
  {
   "cell_type": "markdown",
   "id": "7042d6bf",
   "metadata": {},
   "source": [
    "## 2. Externalizing Rules from Codes"
   ]
  },
  {
   "cell_type": "markdown",
   "id": "d95001a1",
   "metadata": {},
   "source": [
    "### 2A. Saving spacy rules in a json format"
   ]
  },
  {
   "cell_type": "markdown",
   "id": "b83227c0",
   "metadata": {},
   "source": [
    "> Note that the official spacy document advocates josnl format but json is much more readable for multitoken spacy patterns "
   ]
  },
  {
   "cell_type": "code",
   "execution_count": 78,
   "id": "f0ff9efb",
   "metadata": {},
   "outputs": [],
   "source": [
    "# collapse-show\n",
    "import json \n",
    "from pprint import pprint\n",
    "\n",
    "# \"+1 (901)-985-4567\" or \"(901)-985-4567\" or 901-985-4567 or 901 985 4567\n",
    "phone_pattern_1 = [{\"ORTH\": {\"IN\":[\"+1\",\"1\"]},'OP':'?'},\n",
    "                   {\"ORTH\": '(', \"OP\":\"?\"}, \n",
    "                   {'SHAPE': 'ddd'}, \n",
    "                   {\"ORTH\": ')', \"OP\":\"?\"}, \n",
    "                   {'ORTH': '-', 'OP':'?'},\n",
    "                   {'SHAPE': 'ddd'}, \n",
    "                   {'ORTH': '-', 'OP':'?'}, \n",
    "                   {'SHAPE': 'dddd'}]\n",
    "\n",
    "# 901 985 4567\n",
    "phone_pattern_2 = [{\"TEXT\": {\"REGEX\": \"\\d{10}\"}}]\n",
    "\n",
    "# +19019854567\n",
    "phone_pattern_3 = [{\"TEXT\": {\"REGEX\": \"\\+1\\d{10}\"}}]\n",
    "\n",
    "phone_patterns_list = [phone_pattern_1, phone_pattern_2, phone_pattern_3]\n",
    "\n",
    "spacy_patterns_dict_list = []\n",
    "\n",
    "for each_phone_pattern in phone_patterns_list:\n",
    "    spacy_patterns_dict_list.append({\"label\":\"PHONE\",\n",
    "                                     \"pattern\": each_phone_pattern\n",
    "                                    })\n",
    "\n",
    "with open('spacy_rules_ner/phone_patterns.json', 'w', encoding='utf-8') as f:\n",
    "    json.dump(spacy_patterns_dict_list, f, ensure_ascii=False, indent=1)"
   ]
  },
  {
   "cell_type": "markdown",
   "id": "883671fb",
   "metadata": {},
   "source": [
    "### 2B. Prepare an Entity Ruler loading rules from a json"
   ]
  },
  {
   "cell_type": "code",
   "execution_count": 79,
   "id": "f9b93122",
   "metadata": {},
   "outputs": [
    {
     "name": "stdout",
     "output_type": "stream",
     "text": [
      "Asserting if the loaded spacy patterns are same as the prepared\n",
      "--> Assertion successful\n"
     ]
    }
   ],
   "source": [
    "loaded_spacy_patterns = json.load(open('spacy_rules_ner/phone_patterns.json','r',encoding='utf-8'))\n",
    "\n",
    "print(\"Asserting if the loaded spacy patterns are same as the prepared\")\n",
    "assert loaded_spacy_patterns == spacy_patterns_dict_list\n",
    "print(\"--> Assertion successful\")"
   ]
  },
  {
   "cell_type": "code",
   "execution_count": 80,
   "id": "63871022",
   "metadata": {},
   "outputs": [
    {
     "name": "stdout",
     "output_type": "stream",
     "text": [
      "Token-level Spacy Phone Regex\n",
      "[{'label': 'PHONE',\n",
      "  'pattern': [{'OP': '?', 'ORTH': {'IN': ['+1', '1']}},\n",
      "              {'OP': '?', 'ORTH': '('},\n",
      "              {'SHAPE': 'ddd'},\n",
      "              {'OP': '?', 'ORTH': ')'},\n",
      "              {'OP': '?', 'ORTH': '-'},\n",
      "              {'SHAPE': 'ddd'},\n",
      "              {'OP': '?', 'ORTH': '-'},\n",
      "              {'SHAPE': 'dddd'}]},\n",
      " {'label': 'PHONE', 'pattern': [{'TEXT': {'REGEX': '\\\\d{10}'}}]},\n",
      " {'label': 'PHONE', 'pattern': [{'TEXT': {'REGEX': '\\\\+1\\\\d{10}'}}]}]\n"
     ]
    }
   ],
   "source": [
    "print(\"Token-level Spacy Phone Regex\")\n",
    "pprint(loaded_spacy_patterns)"
   ]
  },
  {
   "cell_type": "code",
   "execution_count": 81,
   "id": "ed00d397",
   "metadata": {},
   "outputs": [],
   "source": [
    "phone_nlp = spacy.load('en_core_web_sm', disable=['ner'])\n",
    "rules_config = {\n",
    "    \"validate\": True,\n",
    "    \"overwrite_ents\": True,\n",
    "}\n",
    "\n",
    "phone_nlp_rules = phone_nlp.add_pipe(\"entity_ruler\", # invoke entity_ruler pipe \n",
    "                                     \"phone_nlp_rules\", # give a name to the pipe\n",
    "                                     config=rules_config)\n",
    "phone_nlp_rules.add_patterns(loaded_spacy_patterns) # load patterns to the `phone_nlp_rules` pipe of `phone_nlp` model"
   ]
  },
  {
   "cell_type": "markdown",
   "id": "134300a8",
   "metadata": {},
   "source": [
    "### 2C. Testing on Sample Phone Sentences "
   ]
  },
  {
   "cell_type": "code",
   "execution_count": 82,
   "id": "90254c75",
   "metadata": {},
   "outputs": [
    {
     "data": {
      "text/plain": [
       "['If you want to talk more. Reach me at +1 (901)-985-4567',\n",
       " 'If you want to talk more. Reach me at +1(901)-985-4567',\n",
       " 'If you want to talk more. Reach me at (901) 985 4567',\n",
       " 'If you want to talk more. Reach me at 9019854567']"
      ]
     },
     "execution_count": 82,
     "metadata": {},
     "output_type": "execute_result"
    }
   ],
   "source": [
    "# collapse-hide\n",
    "phones_list = [\"+1 (901)-985-4567\", \n",
    "               \"+1(901)-985-4567\",\n",
    "               \"(901) 985 4567\",\n",
    "               \"9019854567\"\n",
    "              ]\n",
    "\n",
    "\n",
    "\n",
    "sample_phone_sentences = [f\"If you want to talk more. Reach me at {each}\" for each in phones_list]\n",
    "sample_phone_sentences"
   ]
  },
  {
   "cell_type": "code",
   "execution_count": 83,
   "id": "82e3a7be",
   "metadata": {
    "scrolled": true
   },
   "outputs": [
    {
     "name": "stdout",
     "output_type": "stream",
     "text": [
      "\u001b[1mProcessing Sentence 0 \u001b[1m\n"
     ]
    },
    {
     "data": {
      "text/html": [
       "<span class=\"tex2jax_ignore\"><div class=\"entities\" style=\"line-height: 2.5; direction: ltr\">If you want to talk more. Reach me at +1 (901)-985-4567</div></span>"
      ],
      "text/plain": [
       "<IPython.core.display.HTML object>"
      ]
     },
     "metadata": {},
     "output_type": "display_data"
    },
    {
     "name": "stdout",
     "output_type": "stream",
     "text": [
      "\u001b[1mProcessing Sentence 1 \u001b[1m\n"
     ]
    },
    {
     "data": {
      "text/html": [
       "<span class=\"tex2jax_ignore\"><div class=\"entities\" style=\"line-height: 2.5; direction: ltr\">If you want to talk more. Reach me at +1(901)-985-4567</div></span>"
      ],
      "text/plain": [
       "<IPython.core.display.HTML object>"
      ]
     },
     "metadata": {},
     "output_type": "display_data"
    },
    {
     "name": "stdout",
     "output_type": "stream",
     "text": [
      "\u001b[1mProcessing Sentence 2 \u001b[1m\n"
     ]
    },
    {
     "data": {
      "text/html": [
       "<span class=\"tex2jax_ignore\"><div class=\"entities\" style=\"line-height: 2.5; direction: ltr\">If you want to talk more. Reach me at \n",
       "<mark class=\"entity\" style=\"background: #ddd; padding: 0.45em 0.6em; margin: 0 0.25em; line-height: 1; border-radius: 0.35em;\">\n",
       "    (901) 985 4567\n",
       "    <span style=\"font-size: 0.8em; font-weight: bold; line-height: 1; border-radius: 0.35em; vertical-align: middle; margin-left: 0.5rem\">PHONE</span>\n",
       "</mark>\n",
       "</div></span>"
      ],
      "text/plain": [
       "<IPython.core.display.HTML object>"
      ]
     },
     "metadata": {},
     "output_type": "display_data"
    },
    {
     "name": "stdout",
     "output_type": "stream",
     "text": [
      "\u001b[1mProcessing Sentence 3 \u001b[1m\n"
     ]
    },
    {
     "data": {
      "text/html": [
       "<span class=\"tex2jax_ignore\"><div class=\"entities\" style=\"line-height: 2.5; direction: ltr\">If you want to talk more. Reach me at \n",
       "<mark class=\"entity\" style=\"background: #ddd; padding: 0.45em 0.6em; margin: 0 0.25em; line-height: 1; border-radius: 0.35em;\">\n",
       "    9019854567\n",
       "    <span style=\"font-size: 0.8em; font-weight: bold; line-height: 1; border-radius: 0.35em; vertical-align: middle; margin-left: 0.5rem\">PHONE</span>\n",
       "</mark>\n",
       "</div></span>"
      ],
      "text/plain": [
       "<IPython.core.display.HTML object>"
      ]
     },
     "metadata": {},
     "output_type": "display_data"
    }
   ],
   "source": [
    "#collapse-show\n",
    "import warnings\n",
    "warnings.filterwarnings('ignore')\n",
    "\n",
    "for i, doc in enumerate(phone_nlp.pipe(sample_phone_sentences,\n",
    "             as_tuples=False\n",
    "            )):\n",
    "    print(f\"\\033[1mProcessing Sentence {i} \\033[1m\")\n",
    "    displacy.render(doc,\n",
    "                    style='ent',\n",
    "                   )"
   ]
  },
  {
   "cell_type": "markdown",
   "id": "6bd0e3f9",
   "metadata": {},
   "source": [
    "> Some of the phone patterns are not captured using the above patterns, let us add a Phone `regex` that cuts across multiple tokens"
   ]
  },
  {
   "cell_type": "code",
   "execution_count": 84,
   "id": "02cf3a8d",
   "metadata": {},
   "outputs": [
    {
     "data": {
      "text/plain": [
       "[('If', ''),\n",
       " ('you', ''),\n",
       " ('want', ''),\n",
       " ('to', ''),\n",
       " ('talk', ''),\n",
       " ('more', ''),\n",
       " ('.', ''),\n",
       " ('Reach', ''),\n",
       " ('me', ''),\n",
       " ('at', ''),\n",
       " ('+1', ''),\n",
       " ('(', ''),\n",
       " ('901)-985', ''),\n",
       " ('-', ''),\n",
       " ('4567', '')]"
      ]
     },
     "execution_count": 84,
     "metadata": {},
     "output_type": "execute_result"
    }
   ],
   "source": [
    "text = \"If you want to talk more. Reach me at +1 (901)-985-4567\"\n",
    "doc = phone_nlp(text)\n",
    "[(token.text, token.ent_type_) for token in doc]"
   ]
  },
  {
   "cell_type": "markdown",
   "id": "a00d4dac",
   "metadata": {},
   "source": [
    "## 3. Advanced Features in Spacy Rules NER\n",
    "\n",
    "### 3A. Adding RegEx patterns as a custom component"
   ]
  },
  {
   "cell_type": "code",
   "execution_count": 85,
   "id": "59fda597",
   "metadata": {},
   "outputs": [
    {
     "name": "stdout",
     "output_type": "stream",
     "text": [
      "Pipeline Components before adding regex custom component:\n",
      "['tok2vec', 'tagger', 'parser', 'attribute_ruler', 'lemmatizer', 'phone_nlp_rules']\n",
      "\n",
      "Entities tracked in phone_nlp_rules\n",
      "['PHONE']\n",
      "Pipeline Components after adding regex custom component:\n",
      "['tok2vec', 'tagger', 'parser', 'attribute_ruler', 'lemmatizer', 'phone_nlp_rules', 'phone_multitoken_regex_capture']\n"
     ]
    }
   ],
   "source": [
    "#collapse-show\n",
    "import re \n",
    "from spacy import Language\n",
    "from spacy.tokens import Span\n",
    "\n",
    "def load_entity_ruler_based_phone_pattern(location_spacy_json):\n",
    "    loaded_spacy_patterns = json.load(open(location_spacy_json,'r',encoding='utf-8'))\n",
    "    phone_nlp = spacy.load('en_core_web_sm', disable=['ner'])\n",
    "    rules_config = {\n",
    "        \"validate\": True,\n",
    "        \"overwrite_ents\": True,\n",
    "    }\n",
    "\n",
    "    phone_nlp_rules = phone_nlp.add_pipe(\"entity_ruler\", # invoke entity_ruler pipe \n",
    "                                         \"phone_nlp_rules\", # give a name to the pipe\n",
    "                                         config=rules_config)\n",
    "    phone_nlp_rules.add_patterns(loaded_spacy_patterns) # load patterns to the `phone_nlp_rules` pipe of `phone_nlp` model\n",
    "    return phone_nlp\n",
    "       \n",
    "location_spacy_json = 'spacy_rules_ner/phone_patterns.json'\n",
    "\n",
    "phone_nlp = load_entity_ruler_based_phone_pattern(location_spacy_json)\n",
    "\n",
    "print(\"Pipeline Components before adding regex custom component:\")\n",
    "print(phone_nlp.pipe_names)\n",
    "print()\n",
    "print(\"Entities tracked in phone_nlp_rules\")\n",
    "print(phone_nlp.pipe_labels['phone_nlp_rules'])\n",
    "\n",
    "phone_regex_pattern = r\"([+]?[\\d]?[\\d]?.?[(]?\\d{3}[)]?.?\\d{3}.?\\d{4})\"\n",
    "\n",
    "#noting the token position for every character in a doc\n",
    "\n",
    "def generate_chars2tokens_dict(doc):\n",
    "    chars_to_tokens = {}\n",
    "    for token in doc:\n",
    "        for i in range(token.idx, token.idx + len(token.text)):\n",
    "            chars_to_tokens[i] = token.i\n",
    "    return chars_to_tokens\n",
    "\n",
    "\n",
    "@Language.component(\"phone_multitoken_regex_capture\")\n",
    "def phone_multitoken_regex_capture(doc):\n",
    "    original_ents = list(doc.ents)\n",
    "    chars_to_tokens = generate_chars2tokens_dict(doc)\n",
    "    phone_regex_ents = []\n",
    "    for match in re.finditer(phone_regex_pattern, doc.text):\n",
    "        start, end = match.span()\n",
    "        span = doc.char_span(start, end)\n",
    "        if span is not None:\n",
    "            phone_regex_ents.append((span.start, span.end, span.text))\n",
    "        else:\n",
    "            start_token = chars_to_tokens.get(start)\n",
    "            end_token = chars_to_tokens.get(end)\n",
    "            if start_token is not None and end_token is not None:\n",
    "                span = doc[start_token:end_token + 1]\n",
    "                phone_regex_ents.append((span.start, span.end, span.text))\n",
    "    for regex_ent in phone_regex_ents:\n",
    "        start_char, end_char, span_text = regex_ent\n",
    "        proper_spacy_ent = Span(doc, start_char, end_char, label=\"PHONE\")\n",
    "        original_ents.append(proper_spacy_ent)     \n",
    "    filtered = filter_spans(original_ents) #removes overlapping ents\n",
    "    doc.ents = filtered\n",
    "    return doc\n",
    "\n",
    "\n",
    "phone_nlp.add_pipe(\"phone_multitoken_regex_capture\", after=\"phone_nlp_rules\")\n",
    "\n",
    "print(\"Pipeline Components after adding regex custom component:\")\n",
    "print(phone_nlp.pipe_names)\n",
    "\n",
    "# inspiration for the above code piece: \n",
    "# https://spacy.io/usage/rule-based-matching#regex-text"
   ]
  },
  {
   "cell_type": "code",
   "execution_count": 86,
   "id": "af73c9b6",
   "metadata": {},
   "outputs": [
    {
     "name": "stdout",
     "output_type": "stream",
     "text": [
      "\u001b[1mProcessing Sentence 0 \u001b[1m\n"
     ]
    },
    {
     "data": {
      "text/html": [
       "<span class=\"tex2jax_ignore\"><div class=\"entities\" style=\"line-height: 2.5; direction: ltr\">If you want to talk more. Reach me at \n",
       "<mark class=\"entity\" style=\"background: #ddd; padding: 0.45em 0.6em; margin: 0 0.25em; line-height: 1; border-radius: 0.35em;\">\n",
       "    +1 (901)-985-4567\n",
       "    <span style=\"font-size: 0.8em; font-weight: bold; line-height: 1; border-radius: 0.35em; vertical-align: middle; margin-left: 0.5rem\">PHONE</span>\n",
       "</mark>\n",
       "</div></span>"
      ],
      "text/plain": [
       "<IPython.core.display.HTML object>"
      ]
     },
     "metadata": {},
     "output_type": "display_data"
    },
    {
     "name": "stdout",
     "output_type": "stream",
     "text": [
      "\u001b[1mProcessing Sentence 1 \u001b[1m\n"
     ]
    },
    {
     "data": {
      "text/html": [
       "<span class=\"tex2jax_ignore\"><div class=\"entities\" style=\"line-height: 2.5; direction: ltr\">If you want to talk more. Reach me at \n",
       "<mark class=\"entity\" style=\"background: #ddd; padding: 0.45em 0.6em; margin: 0 0.25em; line-height: 1; border-radius: 0.35em;\">\n",
       "    +1(901)-985-4567\n",
       "    <span style=\"font-size: 0.8em; font-weight: bold; line-height: 1; border-radius: 0.35em; vertical-align: middle; margin-left: 0.5rem\">PHONE</span>\n",
       "</mark>\n",
       "</div></span>"
      ],
      "text/plain": [
       "<IPython.core.display.HTML object>"
      ]
     },
     "metadata": {},
     "output_type": "display_data"
    },
    {
     "name": "stdout",
     "output_type": "stream",
     "text": [
      "\u001b[1mProcessing Sentence 2 \u001b[1m\n"
     ]
    },
    {
     "data": {
      "text/html": [
       "<span class=\"tex2jax_ignore\"><div class=\"entities\" style=\"line-height: 2.5; direction: ltr\">If you want to talk more. Reach me at \n",
       "<mark class=\"entity\" style=\"background: #ddd; padding: 0.45em 0.6em; margin: 0 0.25em; line-height: 1; border-radius: 0.35em;\">\n",
       "    (901) 985 4567\n",
       "    <span style=\"font-size: 0.8em; font-weight: bold; line-height: 1; border-radius: 0.35em; vertical-align: middle; margin-left: 0.5rem\">PHONE</span>\n",
       "</mark>\n",
       "</div></span>"
      ],
      "text/plain": [
       "<IPython.core.display.HTML object>"
      ]
     },
     "metadata": {},
     "output_type": "display_data"
    },
    {
     "name": "stdout",
     "output_type": "stream",
     "text": [
      "\u001b[1mProcessing Sentence 3 \u001b[1m\n"
     ]
    },
    {
     "data": {
      "text/html": [
       "<span class=\"tex2jax_ignore\"><div class=\"entities\" style=\"line-height: 2.5; direction: ltr\">If you want to talk more. Reach me at \n",
       "<mark class=\"entity\" style=\"background: #ddd; padding: 0.45em 0.6em; margin: 0 0.25em; line-height: 1; border-radius: 0.35em;\">\n",
       "    9019854567\n",
       "    <span style=\"font-size: 0.8em; font-weight: bold; line-height: 1; border-radius: 0.35em; vertical-align: middle; margin-left: 0.5rem\">PHONE</span>\n",
       "</mark>\n",
       "</div></span>"
      ],
      "text/plain": [
       "<IPython.core.display.HTML object>"
      ]
     },
     "metadata": {},
     "output_type": "display_data"
    }
   ],
   "source": [
    "for i, doc in enumerate(phone_nlp.pipe(sample_phone_sentences,\n",
    "             as_tuples=False\n",
    "            )):\n",
    "    print(f\"\\033[1mProcessing Sentence {i} \\033[1m\")\n",
    "    displacy.render(doc,\n",
    "                    style='ent',\n",
    "                   )"
   ]
  },
  {
   "cell_type": "markdown",
   "id": "d500444c",
   "metadata": {},
   "source": [
    "> By adding the custom component, we are able to capture the missed out sentences also"
   ]
  },
  {
   "cell_type": "markdown",
   "id": "36f1a047",
   "metadata": {},
   "source": [
    "### 3B. Chaining Spacy NER components\n",
    "> Chaining spacy NER components makes the patterns more manageable <br>\n",
    "> It is similar to modular programming but for building a complex spacy NER rules"
   ]
  },
  {
   "cell_type": "markdown",
   "id": "8a65999c",
   "metadata": {},
   "source": [
    "*Let us discuss creation of a first degree NER + second degree NER (chaining NER) written on top of first degree NER entities*"
   ]
  },
  {
   "cell_type": "markdown",
   "id": "febe10b9",
   "metadata": {},
   "source": [
    "It is better to train a model for `ADDRESS` entity.<br>\n",
    "But for the sake of explanation of the `Chiaining NER` technique, let us build an ADDRESS NER using spacy rules"
   ]
  },
  {
   "cell_type": "code",
   "execution_count": 87,
   "id": "a1cedc13",
   "metadata": {},
   "outputs": [],
   "source": [
    "# collapse-hide\n",
    "# Goal: To capture the different types of ADDRESSES in the following ADDRESS SENTENCES\n",
    "sample_address_sentences = ['My office is located at 1 American rd, Dearborn, MI 48126, United States',\n",
    " 'My office is located at one American Road Dearborb Michigan 48126 United States',\n",
    " 'My office is located at 1 American High way, South Dakota 48126, United States',\n",
    " 'My office is located at 1 American rd, Dearborn, MI, United States',\n",
    " 'My office is located at 717 N 2ND ST, MANKATO, MN 56001 US',\n",
    " 'My office is located at 717 N 2ND ST, MANKATO, MN, 56001',\n",
    " 'My office is located at 717 N 2ND ST MANKATO MN 56001',\n",
    " 'My office is located at Dearborn Michigan',\n",
    " 'My office is located at Chennai, TamilNadu',\n",
    " 'My office is located at Dearborn, Michigan',\n",
    " 'My office is located at PO Box 107050, Albany, NY 12201-7050',\n",
    " 'My office is located at PO Box 107050, Albany, NY 12201',\n",
    " 'My office is located at P.O. Box 107050, Albany, NY 12201-7050',\n",
    " 'My office is located at P.O. Box 107050, Albany, NY 12201']"
   ]
  },
  {
   "cell_type": "code",
   "execution_count": 91,
   "id": "d7f19c54",
   "metadata": {},
   "outputs": [],
   "source": [
    "# collapse-show\n",
    "# Capture following first degree NER entities\n",
    "\n",
    "\n",
    "# `DOOR_NUM` entity to capture \n",
    "# `STREET_NAME` entity\n",
    "# `CITY`\n",
    "# `STATE`\n",
    "# `COUNTRY`\n",
    "# `ZIP_CODE`\n",
    "# `P_O_BOX`\n",
    "\n",
    "\n",
    "# one or more of the above 1st degree NER entities form the final ADDRESS entity\n",
    "\n",
    "door_num_spacy_pattern = [{\"label\":\"POTENTIAL_DOOR_NUM\",\n",
    "                           \"pattern\":[{\"LOWER\":{\"REGEX\":\"\\\\b([0-9]{1,4}|one|two|three|four|five|six|seven|eight|nine|ten)\\\\b\"}}]\n",
    "                         }]\n",
    "\n",
    "street_spacy_pattern = [{\"label\":\"POTENTIAL_STREET_NAME\",\n",
    "                         \"pattern\":[{\"TEXT\":{\"REGEX\": \"^(N|S|E|W)$\"},\"OP\":\"?\"},\n",
    "                                    {\"TEXT\":{\"REGEX\":\"^[A-Z][a-zA-Z]+$|\\d(st|nd|rd|th|ST|ND|RD|TH)|[Ff]irst|[Ss]econd|[Tt]hird|[Ff]ourth|[Ff]ifth|[Ss]ixth|[Ss]eventh|[Ee]ighth|[Nn]inth|[Tt]enth\"},\"OP\":\"+\"},\n",
    "                                    {\"LOWER\":{\"REGEX\":\"\\\\b(street|st|avenue|ave|road|rd|highway|hwy|square|sq|trail|trl|drive|dr|court|ct|park|parkway|pkwy|circle|cir|boulevard|blvd|high|park|way|cross)\\\\b\"},\"OP\":\"+\"}]\n",
    "                       }]\n",
    "\n",
    "city_or_country_spacy_pattern = [{\"label\":\"POTENTIAL_CITY_OR_STATE_OR_COUNTRY_NAME\",\n",
    "                                 \"pattern\":[{\"TEXT\":{\"REGEX\":\"^[A-Z][a-zA-Z]+$\"},\"OP\":\"+\", \"TAG\":{\"REGEX\":\"^NN|HYPH\"},}],\n",
    "                               }]\n",
    "\n",
    "zip_code_spacy_pattern =  [{\"label\":\"ZIP_CODE\",\n",
    "                            \"pattern\": [{\"TEXT\":{\"REGEX\":\"\\\\b\\\\d{5}\\\\b\"}},\n",
    "                                        {\"ORTH\":\"-\",\"OP\":\"?\"},\n",
    "                                        {\"TEXT\":{\"REGEX\":\"\\\\b\\\\d+\\\\b\"},\"OP\":\"?\"} \n",
    "                                       ]  \n",
    "                                }] \n",
    "\n",
    "p_o_box_pattern = [{\"label\":\"P_O_BOX\",\n",
    "                     \"pattern\":[{\"LOWER\":{\"IN\":[\"po\",\"p.o\",\"p.o.\",\"post\"]}},\n",
    "                                {\"LOWER\":{\"IN\":[\"office\",\".\"]},\"OP\":\"?\"},\n",
    "                                {\"LOWER\":{\"IN\":[\"box\"]}},\n",
    "                                {\"TEXT\":{\"REGEX\":\"\\\\b\\\\d+\\\\b\"}}\n",
    "                               ]  \n",
    "                   }]\n",
    "\n",
    "first_degree_address_patterns = door_num_spacy_pattern + street_spacy_pattern + city_or_country_spacy_pattern + p_o_box_pattern + zip_code_spacy_pattern\n",
    "\n",
    "def create_first_degree_address_nlp(first_degree_address_patterns):\n",
    "    first_degree_address_nlp = spacy.load('en_core_web_sm', disable=['ner'])\n",
    "    rules_config = {\"validate\": True,\n",
    "                    \"overwrite_ents\": True,\n",
    "                   }\n",
    "    first_degree_rules = first_degree_address_nlp.add_pipe(\"entity_ruler\",\n",
    "                                                           \"first_degree_rules\",\n",
    "                                                           config=rules_config)\n",
    "    first_degree_rules.add_patterns(first_degree_address_patterns)\n",
    "    return first_degree_address_nlp                                "
   ]
  },
  {
   "cell_type": "code",
   "execution_count": 93,
   "id": "598220f3",
   "metadata": {},
   "outputs": [
    {
     "name": "stdout",
     "output_type": "stream",
     "text": [
      "\u001b[1mProcessing Sentence 0 \u001b[1m\n"
     ]
    },
    {
     "data": {
      "text/html": [
       "<span class=\"tex2jax_ignore\"><div class=\"entities\" style=\"line-height: 2.5; direction: ltr\">My office is located at \n",
       "<mark class=\"entity\" style=\"background: #ddd; padding: 0.45em 0.6em; margin: 0 0.25em; line-height: 1; border-radius: 0.35em;\">\n",
       "    1\n",
       "    <span style=\"font-size: 0.8em; font-weight: bold; line-height: 1; border-radius: 0.35em; vertical-align: middle; margin-left: 0.5rem\">POTENTIAL_DOOR_NUM</span>\n",
       "</mark>\n",
       " \n",
       "<mark class=\"entity\" style=\"background: #ddd; padding: 0.45em 0.6em; margin: 0 0.25em; line-height: 1; border-radius: 0.35em;\">\n",
       "    American rd\n",
       "    <span style=\"font-size: 0.8em; font-weight: bold; line-height: 1; border-radius: 0.35em; vertical-align: middle; margin-left: 0.5rem\">POTENTIAL_STREET_NAME</span>\n",
       "</mark>\n",
       ", \n",
       "<mark class=\"entity\" style=\"background: #ddd; padding: 0.45em 0.6em; margin: 0 0.25em; line-height: 1; border-radius: 0.35em;\">\n",
       "    Dearborn\n",
       "    <span style=\"font-size: 0.8em; font-weight: bold; line-height: 1; border-radius: 0.35em; vertical-align: middle; margin-left: 0.5rem\">POTENTIAL_CITY_OR_STATE_OR_COUNTRY_NAME</span>\n",
       "</mark>\n",
       ", \n",
       "<mark class=\"entity\" style=\"background: #ddd; padding: 0.45em 0.6em; margin: 0 0.25em; line-height: 1; border-radius: 0.35em;\">\n",
       "    MI\n",
       "    <span style=\"font-size: 0.8em; font-weight: bold; line-height: 1; border-radius: 0.35em; vertical-align: middle; margin-left: 0.5rem\">POTENTIAL_CITY_OR_STATE_OR_COUNTRY_NAME</span>\n",
       "</mark>\n",
       " \n",
       "<mark class=\"entity\" style=\"background: #ddd; padding: 0.45em 0.6em; margin: 0 0.25em; line-height: 1; border-radius: 0.35em;\">\n",
       "    48126\n",
       "    <span style=\"font-size: 0.8em; font-weight: bold; line-height: 1; border-radius: 0.35em; vertical-align: middle; margin-left: 0.5rem\">ZIP_CODE</span>\n",
       "</mark>\n",
       ", \n",
       "<mark class=\"entity\" style=\"background: #ddd; padding: 0.45em 0.6em; margin: 0 0.25em; line-height: 1; border-radius: 0.35em;\">\n",
       "    United States\n",
       "    <span style=\"font-size: 0.8em; font-weight: bold; line-height: 1; border-radius: 0.35em; vertical-align: middle; margin-left: 0.5rem\">POTENTIAL_CITY_OR_STATE_OR_COUNTRY_NAME</span>\n",
       "</mark>\n",
       "</div></span>"
      ],
      "text/plain": [
       "<IPython.core.display.HTML object>"
      ]
     },
     "metadata": {},
     "output_type": "display_data"
    },
    {
     "name": "stdout",
     "output_type": "stream",
     "text": [
      "\u001b[1mProcessing Sentence 1 \u001b[1m\n"
     ]
    },
    {
     "data": {
      "text/html": [
       "<span class=\"tex2jax_ignore\"><div class=\"entities\" style=\"line-height: 2.5; direction: ltr\">My office is located at \n",
       "<mark class=\"entity\" style=\"background: #ddd; padding: 0.45em 0.6em; margin: 0 0.25em; line-height: 1; border-radius: 0.35em;\">\n",
       "    one\n",
       "    <span style=\"font-size: 0.8em; font-weight: bold; line-height: 1; border-radius: 0.35em; vertical-align: middle; margin-left: 0.5rem\">POTENTIAL_DOOR_NUM</span>\n",
       "</mark>\n",
       " \n",
       "<mark class=\"entity\" style=\"background: #ddd; padding: 0.45em 0.6em; margin: 0 0.25em; line-height: 1; border-radius: 0.35em;\">\n",
       "    American Road Dearborb Michigan\n",
       "    <span style=\"font-size: 0.8em; font-weight: bold; line-height: 1; border-radius: 0.35em; vertical-align: middle; margin-left: 0.5rem\">POTENTIAL_CITY_OR_STATE_OR_COUNTRY_NAME</span>\n",
       "</mark>\n",
       " \n",
       "<mark class=\"entity\" style=\"background: #ddd; padding: 0.45em 0.6em; margin: 0 0.25em; line-height: 1; border-radius: 0.35em;\">\n",
       "    48126\n",
       "    <span style=\"font-size: 0.8em; font-weight: bold; line-height: 1; border-radius: 0.35em; vertical-align: middle; margin-left: 0.5rem\">ZIP_CODE</span>\n",
       "</mark>\n",
       " \n",
       "<mark class=\"entity\" style=\"background: #ddd; padding: 0.45em 0.6em; margin: 0 0.25em; line-height: 1; border-radius: 0.35em;\">\n",
       "    United States\n",
       "    <span style=\"font-size: 0.8em; font-weight: bold; line-height: 1; border-radius: 0.35em; vertical-align: middle; margin-left: 0.5rem\">POTENTIAL_CITY_OR_STATE_OR_COUNTRY_NAME</span>\n",
       "</mark>\n",
       "</div></span>"
      ],
      "text/plain": [
       "<IPython.core.display.HTML object>"
      ]
     },
     "metadata": {},
     "output_type": "display_data"
    },
    {
     "name": "stdout",
     "output_type": "stream",
     "text": [
      "\u001b[1mProcessing Sentence 2 \u001b[1m\n"
     ]
    },
    {
     "data": {
      "text/html": [
       "<span class=\"tex2jax_ignore\"><div class=\"entities\" style=\"line-height: 2.5; direction: ltr\">My office is located at \n",
       "<mark class=\"entity\" style=\"background: #ddd; padding: 0.45em 0.6em; margin: 0 0.25em; line-height: 1; border-radius: 0.35em;\">\n",
       "    1\n",
       "    <span style=\"font-size: 0.8em; font-weight: bold; line-height: 1; border-radius: 0.35em; vertical-align: middle; margin-left: 0.5rem\">POTENTIAL_DOOR_NUM</span>\n",
       "</mark>\n",
       " \n",
       "<mark class=\"entity\" style=\"background: #ddd; padding: 0.45em 0.6em; margin: 0 0.25em; line-height: 1; border-radius: 0.35em;\">\n",
       "    American High way\n",
       "    <span style=\"font-size: 0.8em; font-weight: bold; line-height: 1; border-radius: 0.35em; vertical-align: middle; margin-left: 0.5rem\">POTENTIAL_STREET_NAME</span>\n",
       "</mark>\n",
       ", \n",
       "<mark class=\"entity\" style=\"background: #ddd; padding: 0.45em 0.6em; margin: 0 0.25em; line-height: 1; border-radius: 0.35em;\">\n",
       "    South Dakota\n",
       "    <span style=\"font-size: 0.8em; font-weight: bold; line-height: 1; border-radius: 0.35em; vertical-align: middle; margin-left: 0.5rem\">POTENTIAL_CITY_OR_STATE_OR_COUNTRY_NAME</span>\n",
       "</mark>\n",
       " \n",
       "<mark class=\"entity\" style=\"background: #ddd; padding: 0.45em 0.6em; margin: 0 0.25em; line-height: 1; border-radius: 0.35em;\">\n",
       "    48126\n",
       "    <span style=\"font-size: 0.8em; font-weight: bold; line-height: 1; border-radius: 0.35em; vertical-align: middle; margin-left: 0.5rem\">ZIP_CODE</span>\n",
       "</mark>\n",
       ", \n",
       "<mark class=\"entity\" style=\"background: #ddd; padding: 0.45em 0.6em; margin: 0 0.25em; line-height: 1; border-radius: 0.35em;\">\n",
       "    United States\n",
       "    <span style=\"font-size: 0.8em; font-weight: bold; line-height: 1; border-radius: 0.35em; vertical-align: middle; margin-left: 0.5rem\">POTENTIAL_CITY_OR_STATE_OR_COUNTRY_NAME</span>\n",
       "</mark>\n",
       "</div></span>"
      ],
      "text/plain": [
       "<IPython.core.display.HTML object>"
      ]
     },
     "metadata": {},
     "output_type": "display_data"
    },
    {
     "name": "stdout",
     "output_type": "stream",
     "text": [
      "\u001b[1mProcessing Sentence 3 \u001b[1m\n"
     ]
    },
    {
     "data": {
      "text/html": [
       "<span class=\"tex2jax_ignore\"><div class=\"entities\" style=\"line-height: 2.5; direction: ltr\">My office is located at \n",
       "<mark class=\"entity\" style=\"background: #ddd; padding: 0.45em 0.6em; margin: 0 0.25em; line-height: 1; border-radius: 0.35em;\">\n",
       "    1\n",
       "    <span style=\"font-size: 0.8em; font-weight: bold; line-height: 1; border-radius: 0.35em; vertical-align: middle; margin-left: 0.5rem\">POTENTIAL_DOOR_NUM</span>\n",
       "</mark>\n",
       " \n",
       "<mark class=\"entity\" style=\"background: #ddd; padding: 0.45em 0.6em; margin: 0 0.25em; line-height: 1; border-radius: 0.35em;\">\n",
       "    American rd\n",
       "    <span style=\"font-size: 0.8em; font-weight: bold; line-height: 1; border-radius: 0.35em; vertical-align: middle; margin-left: 0.5rem\">POTENTIAL_STREET_NAME</span>\n",
       "</mark>\n",
       ", \n",
       "<mark class=\"entity\" style=\"background: #ddd; padding: 0.45em 0.6em; margin: 0 0.25em; line-height: 1; border-radius: 0.35em;\">\n",
       "    Dearborn\n",
       "    <span style=\"font-size: 0.8em; font-weight: bold; line-height: 1; border-radius: 0.35em; vertical-align: middle; margin-left: 0.5rem\">POTENTIAL_CITY_OR_STATE_OR_COUNTRY_NAME</span>\n",
       "</mark>\n",
       ", \n",
       "<mark class=\"entity\" style=\"background: #ddd; padding: 0.45em 0.6em; margin: 0 0.25em; line-height: 1; border-radius: 0.35em;\">\n",
       "    MI\n",
       "    <span style=\"font-size: 0.8em; font-weight: bold; line-height: 1; border-radius: 0.35em; vertical-align: middle; margin-left: 0.5rem\">POTENTIAL_CITY_OR_STATE_OR_COUNTRY_NAME</span>\n",
       "</mark>\n",
       ", \n",
       "<mark class=\"entity\" style=\"background: #ddd; padding: 0.45em 0.6em; margin: 0 0.25em; line-height: 1; border-radius: 0.35em;\">\n",
       "    United States\n",
       "    <span style=\"font-size: 0.8em; font-weight: bold; line-height: 1; border-radius: 0.35em; vertical-align: middle; margin-left: 0.5rem\">POTENTIAL_CITY_OR_STATE_OR_COUNTRY_NAME</span>\n",
       "</mark>\n",
       "</div></span>"
      ],
      "text/plain": [
       "<IPython.core.display.HTML object>"
      ]
     },
     "metadata": {},
     "output_type": "display_data"
    },
    {
     "name": "stdout",
     "output_type": "stream",
     "text": [
      "\u001b[1mProcessing Sentence 4 \u001b[1m\n"
     ]
    },
    {
     "data": {
      "text/html": [
       "<span class=\"tex2jax_ignore\"><div class=\"entities\" style=\"line-height: 2.5; direction: ltr\">My office is located at \n",
       "<mark class=\"entity\" style=\"background: #ddd; padding: 0.45em 0.6em; margin: 0 0.25em; line-height: 1; border-radius: 0.35em;\">\n",
       "    717\n",
       "    <span style=\"font-size: 0.8em; font-weight: bold; line-height: 1; border-radius: 0.35em; vertical-align: middle; margin-left: 0.5rem\">POTENTIAL_DOOR_NUM</span>\n",
       "</mark>\n",
       " \n",
       "<mark class=\"entity\" style=\"background: #ddd; padding: 0.45em 0.6em; margin: 0 0.25em; line-height: 1; border-radius: 0.35em;\">\n",
       "    N 2ND ST\n",
       "    <span style=\"font-size: 0.8em; font-weight: bold; line-height: 1; border-radius: 0.35em; vertical-align: middle; margin-left: 0.5rem\">POTENTIAL_STREET_NAME</span>\n",
       "</mark>\n",
       ", \n",
       "<mark class=\"entity\" style=\"background: #ddd; padding: 0.45em 0.6em; margin: 0 0.25em; line-height: 1; border-radius: 0.35em;\">\n",
       "    MANKATO\n",
       "    <span style=\"font-size: 0.8em; font-weight: bold; line-height: 1; border-radius: 0.35em; vertical-align: middle; margin-left: 0.5rem\">POTENTIAL_CITY_OR_STATE_OR_COUNTRY_NAME</span>\n",
       "</mark>\n",
       ", \n",
       "<mark class=\"entity\" style=\"background: #ddd; padding: 0.45em 0.6em; margin: 0 0.25em; line-height: 1; border-radius: 0.35em;\">\n",
       "    MN\n",
       "    <span style=\"font-size: 0.8em; font-weight: bold; line-height: 1; border-radius: 0.35em; vertical-align: middle; margin-left: 0.5rem\">POTENTIAL_CITY_OR_STATE_OR_COUNTRY_NAME</span>\n",
       "</mark>\n",
       " \n",
       "<mark class=\"entity\" style=\"background: #ddd; padding: 0.45em 0.6em; margin: 0 0.25em; line-height: 1; border-radius: 0.35em;\">\n",
       "    56001\n",
       "    <span style=\"font-size: 0.8em; font-weight: bold; line-height: 1; border-radius: 0.35em; vertical-align: middle; margin-left: 0.5rem\">ZIP_CODE</span>\n",
       "</mark>\n",
       " \n",
       "<mark class=\"entity\" style=\"background: #ddd; padding: 0.45em 0.6em; margin: 0 0.25em; line-height: 1; border-radius: 0.35em;\">\n",
       "    US\n",
       "    <span style=\"font-size: 0.8em; font-weight: bold; line-height: 1; border-radius: 0.35em; vertical-align: middle; margin-left: 0.5rem\">POTENTIAL_CITY_OR_STATE_OR_COUNTRY_NAME</span>\n",
       "</mark>\n",
       "</div></span>"
      ],
      "text/plain": [
       "<IPython.core.display.HTML object>"
      ]
     },
     "metadata": {},
     "output_type": "display_data"
    },
    {
     "name": "stdout",
     "output_type": "stream",
     "text": [
      "\u001b[1mProcessing Sentence 5 \u001b[1m\n"
     ]
    },
    {
     "data": {
      "text/html": [
       "<span class=\"tex2jax_ignore\"><div class=\"entities\" style=\"line-height: 2.5; direction: ltr\">My office is located at \n",
       "<mark class=\"entity\" style=\"background: #ddd; padding: 0.45em 0.6em; margin: 0 0.25em; line-height: 1; border-radius: 0.35em;\">\n",
       "    717\n",
       "    <span style=\"font-size: 0.8em; font-weight: bold; line-height: 1; border-radius: 0.35em; vertical-align: middle; margin-left: 0.5rem\">POTENTIAL_DOOR_NUM</span>\n",
       "</mark>\n",
       " \n",
       "<mark class=\"entity\" style=\"background: #ddd; padding: 0.45em 0.6em; margin: 0 0.25em; line-height: 1; border-radius: 0.35em;\">\n",
       "    N 2ND ST\n",
       "    <span style=\"font-size: 0.8em; font-weight: bold; line-height: 1; border-radius: 0.35em; vertical-align: middle; margin-left: 0.5rem\">POTENTIAL_STREET_NAME</span>\n",
       "</mark>\n",
       ", \n",
       "<mark class=\"entity\" style=\"background: #ddd; padding: 0.45em 0.6em; margin: 0 0.25em; line-height: 1; border-radius: 0.35em;\">\n",
       "    MANKATO\n",
       "    <span style=\"font-size: 0.8em; font-weight: bold; line-height: 1; border-radius: 0.35em; vertical-align: middle; margin-left: 0.5rem\">POTENTIAL_CITY_OR_STATE_OR_COUNTRY_NAME</span>\n",
       "</mark>\n",
       ", \n",
       "<mark class=\"entity\" style=\"background: #ddd; padding: 0.45em 0.6em; margin: 0 0.25em; line-height: 1; border-radius: 0.35em;\">\n",
       "    MN\n",
       "    <span style=\"font-size: 0.8em; font-weight: bold; line-height: 1; border-radius: 0.35em; vertical-align: middle; margin-left: 0.5rem\">POTENTIAL_CITY_OR_STATE_OR_COUNTRY_NAME</span>\n",
       "</mark>\n",
       ", \n",
       "<mark class=\"entity\" style=\"background: #ddd; padding: 0.45em 0.6em; margin: 0 0.25em; line-height: 1; border-radius: 0.35em;\">\n",
       "    56001\n",
       "    <span style=\"font-size: 0.8em; font-weight: bold; line-height: 1; border-radius: 0.35em; vertical-align: middle; margin-left: 0.5rem\">ZIP_CODE</span>\n",
       "</mark>\n",
       "</div></span>"
      ],
      "text/plain": [
       "<IPython.core.display.HTML object>"
      ]
     },
     "metadata": {},
     "output_type": "display_data"
    },
    {
     "name": "stdout",
     "output_type": "stream",
     "text": [
      "\u001b[1mProcessing Sentence 6 \u001b[1m\n"
     ]
    },
    {
     "data": {
      "text/html": [
       "<span class=\"tex2jax_ignore\"><div class=\"entities\" style=\"line-height: 2.5; direction: ltr\">My office is located at \n",
       "<mark class=\"entity\" style=\"background: #ddd; padding: 0.45em 0.6em; margin: 0 0.25em; line-height: 1; border-radius: 0.35em;\">\n",
       "    717\n",
       "    <span style=\"font-size: 0.8em; font-weight: bold; line-height: 1; border-radius: 0.35em; vertical-align: middle; margin-left: 0.5rem\">POTENTIAL_DOOR_NUM</span>\n",
       "</mark>\n",
       " \n",
       "<mark class=\"entity\" style=\"background: #ddd; padding: 0.45em 0.6em; margin: 0 0.25em; line-height: 1; border-radius: 0.35em;\">\n",
       "    N 2ND ST\n",
       "    <span style=\"font-size: 0.8em; font-weight: bold; line-height: 1; border-radius: 0.35em; vertical-align: middle; margin-left: 0.5rem\">POTENTIAL_STREET_NAME</span>\n",
       "</mark>\n",
       " \n",
       "<mark class=\"entity\" style=\"background: #ddd; padding: 0.45em 0.6em; margin: 0 0.25em; line-height: 1; border-radius: 0.35em;\">\n",
       "    MANKATO MN\n",
       "    <span style=\"font-size: 0.8em; font-weight: bold; line-height: 1; border-radius: 0.35em; vertical-align: middle; margin-left: 0.5rem\">POTENTIAL_CITY_OR_STATE_OR_COUNTRY_NAME</span>\n",
       "</mark>\n",
       " \n",
       "<mark class=\"entity\" style=\"background: #ddd; padding: 0.45em 0.6em; margin: 0 0.25em; line-height: 1; border-radius: 0.35em;\">\n",
       "    56001\n",
       "    <span style=\"font-size: 0.8em; font-weight: bold; line-height: 1; border-radius: 0.35em; vertical-align: middle; margin-left: 0.5rem\">ZIP_CODE</span>\n",
       "</mark>\n",
       "</div></span>"
      ],
      "text/plain": [
       "<IPython.core.display.HTML object>"
      ]
     },
     "metadata": {},
     "output_type": "display_data"
    },
    {
     "name": "stdout",
     "output_type": "stream",
     "text": [
      "\u001b[1mProcessing Sentence 7 \u001b[1m\n"
     ]
    },
    {
     "data": {
      "text/html": [
       "<span class=\"tex2jax_ignore\"><div class=\"entities\" style=\"line-height: 2.5; direction: ltr\">My office is located at \n",
       "<mark class=\"entity\" style=\"background: #ddd; padding: 0.45em 0.6em; margin: 0 0.25em; line-height: 1; border-radius: 0.35em;\">\n",
       "    Dearborn Michigan\n",
       "    <span style=\"font-size: 0.8em; font-weight: bold; line-height: 1; border-radius: 0.35em; vertical-align: middle; margin-left: 0.5rem\">POTENTIAL_CITY_OR_STATE_OR_COUNTRY_NAME</span>\n",
       "</mark>\n",
       "</div></span>"
      ],
      "text/plain": [
       "<IPython.core.display.HTML object>"
      ]
     },
     "metadata": {},
     "output_type": "display_data"
    },
    {
     "name": "stdout",
     "output_type": "stream",
     "text": [
      "\u001b[1mProcessing Sentence 8 \u001b[1m\n"
     ]
    },
    {
     "data": {
      "text/html": [
       "<span class=\"tex2jax_ignore\"><div class=\"entities\" style=\"line-height: 2.5; direction: ltr\">My office is located at \n",
       "<mark class=\"entity\" style=\"background: #ddd; padding: 0.45em 0.6em; margin: 0 0.25em; line-height: 1; border-radius: 0.35em;\">\n",
       "    Chennai\n",
       "    <span style=\"font-size: 0.8em; font-weight: bold; line-height: 1; border-radius: 0.35em; vertical-align: middle; margin-left: 0.5rem\">POTENTIAL_CITY_OR_STATE_OR_COUNTRY_NAME</span>\n",
       "</mark>\n",
       ", \n",
       "<mark class=\"entity\" style=\"background: #ddd; padding: 0.45em 0.6em; margin: 0 0.25em; line-height: 1; border-radius: 0.35em;\">\n",
       "    TamilNadu\n",
       "    <span style=\"font-size: 0.8em; font-weight: bold; line-height: 1; border-radius: 0.35em; vertical-align: middle; margin-left: 0.5rem\">POTENTIAL_CITY_OR_STATE_OR_COUNTRY_NAME</span>\n",
       "</mark>\n",
       "</div></span>"
      ],
      "text/plain": [
       "<IPython.core.display.HTML object>"
      ]
     },
     "metadata": {},
     "output_type": "display_data"
    },
    {
     "name": "stdout",
     "output_type": "stream",
     "text": [
      "\u001b[1mProcessing Sentence 9 \u001b[1m\n"
     ]
    },
    {
     "data": {
      "text/html": [
       "<span class=\"tex2jax_ignore\"><div class=\"entities\" style=\"line-height: 2.5; direction: ltr\">My office is located at \n",
       "<mark class=\"entity\" style=\"background: #ddd; padding: 0.45em 0.6em; margin: 0 0.25em; line-height: 1; border-radius: 0.35em;\">\n",
       "    Dearborn\n",
       "    <span style=\"font-size: 0.8em; font-weight: bold; line-height: 1; border-radius: 0.35em; vertical-align: middle; margin-left: 0.5rem\">POTENTIAL_CITY_OR_STATE_OR_COUNTRY_NAME</span>\n",
       "</mark>\n",
       ", \n",
       "<mark class=\"entity\" style=\"background: #ddd; padding: 0.45em 0.6em; margin: 0 0.25em; line-height: 1; border-radius: 0.35em;\">\n",
       "    Michigan\n",
       "    <span style=\"font-size: 0.8em; font-weight: bold; line-height: 1; border-radius: 0.35em; vertical-align: middle; margin-left: 0.5rem\">POTENTIAL_CITY_OR_STATE_OR_COUNTRY_NAME</span>\n",
       "</mark>\n",
       "</div></span>"
      ],
      "text/plain": [
       "<IPython.core.display.HTML object>"
      ]
     },
     "metadata": {},
     "output_type": "display_data"
    },
    {
     "name": "stdout",
     "output_type": "stream",
     "text": [
      "\u001b[1mProcessing Sentence 10 \u001b[1m\n"
     ]
    },
    {
     "data": {
      "text/html": [
       "<span class=\"tex2jax_ignore\"><div class=\"entities\" style=\"line-height: 2.5; direction: ltr\">My office is located at \n",
       "<mark class=\"entity\" style=\"background: #ddd; padding: 0.45em 0.6em; margin: 0 0.25em; line-height: 1; border-radius: 0.35em;\">\n",
       "    PO Box 107050\n",
       "    <span style=\"font-size: 0.8em; font-weight: bold; line-height: 1; border-radius: 0.35em; vertical-align: middle; margin-left: 0.5rem\">P_O_BOX</span>\n",
       "</mark>\n",
       ", \n",
       "<mark class=\"entity\" style=\"background: #ddd; padding: 0.45em 0.6em; margin: 0 0.25em; line-height: 1; border-radius: 0.35em;\">\n",
       "    Albany\n",
       "    <span style=\"font-size: 0.8em; font-weight: bold; line-height: 1; border-radius: 0.35em; vertical-align: middle; margin-left: 0.5rem\">POTENTIAL_CITY_OR_STATE_OR_COUNTRY_NAME</span>\n",
       "</mark>\n",
       ", \n",
       "<mark class=\"entity\" style=\"background: #ddd; padding: 0.45em 0.6em; margin: 0 0.25em; line-height: 1; border-radius: 0.35em;\">\n",
       "    NY\n",
       "    <span style=\"font-size: 0.8em; font-weight: bold; line-height: 1; border-radius: 0.35em; vertical-align: middle; margin-left: 0.5rem\">POTENTIAL_CITY_OR_STATE_OR_COUNTRY_NAME</span>\n",
       "</mark>\n",
       " \n",
       "<mark class=\"entity\" style=\"background: #ddd; padding: 0.45em 0.6em; margin: 0 0.25em; line-height: 1; border-radius: 0.35em;\">\n",
       "    12201-7050\n",
       "    <span style=\"font-size: 0.8em; font-weight: bold; line-height: 1; border-radius: 0.35em; vertical-align: middle; margin-left: 0.5rem\">ZIP_CODE</span>\n",
       "</mark>\n",
       "</div></span>"
      ],
      "text/plain": [
       "<IPython.core.display.HTML object>"
      ]
     },
     "metadata": {},
     "output_type": "display_data"
    },
    {
     "name": "stdout",
     "output_type": "stream",
     "text": [
      "\u001b[1mProcessing Sentence 11 \u001b[1m\n"
     ]
    },
    {
     "data": {
      "text/html": [
       "<span class=\"tex2jax_ignore\"><div class=\"entities\" style=\"line-height: 2.5; direction: ltr\">My office is located at \n",
       "<mark class=\"entity\" style=\"background: #ddd; padding: 0.45em 0.6em; margin: 0 0.25em; line-height: 1; border-radius: 0.35em;\">\n",
       "    PO Box 107050\n",
       "    <span style=\"font-size: 0.8em; font-weight: bold; line-height: 1; border-radius: 0.35em; vertical-align: middle; margin-left: 0.5rem\">P_O_BOX</span>\n",
       "</mark>\n",
       ", \n",
       "<mark class=\"entity\" style=\"background: #ddd; padding: 0.45em 0.6em; margin: 0 0.25em; line-height: 1; border-radius: 0.35em;\">\n",
       "    Albany\n",
       "    <span style=\"font-size: 0.8em; font-weight: bold; line-height: 1; border-radius: 0.35em; vertical-align: middle; margin-left: 0.5rem\">POTENTIAL_CITY_OR_STATE_OR_COUNTRY_NAME</span>\n",
       "</mark>\n",
       ", \n",
       "<mark class=\"entity\" style=\"background: #ddd; padding: 0.45em 0.6em; margin: 0 0.25em; line-height: 1; border-radius: 0.35em;\">\n",
       "    NY\n",
       "    <span style=\"font-size: 0.8em; font-weight: bold; line-height: 1; border-radius: 0.35em; vertical-align: middle; margin-left: 0.5rem\">POTENTIAL_CITY_OR_STATE_OR_COUNTRY_NAME</span>\n",
       "</mark>\n",
       " \n",
       "<mark class=\"entity\" style=\"background: #ddd; padding: 0.45em 0.6em; margin: 0 0.25em; line-height: 1; border-radius: 0.35em;\">\n",
       "    12201\n",
       "    <span style=\"font-size: 0.8em; font-weight: bold; line-height: 1; border-radius: 0.35em; vertical-align: middle; margin-left: 0.5rem\">ZIP_CODE</span>\n",
       "</mark>\n",
       "</div></span>"
      ],
      "text/plain": [
       "<IPython.core.display.HTML object>"
      ]
     },
     "metadata": {},
     "output_type": "display_data"
    },
    {
     "name": "stdout",
     "output_type": "stream",
     "text": [
      "\u001b[1mProcessing Sentence 12 \u001b[1m\n"
     ]
    },
    {
     "data": {
      "text/html": [
       "<span class=\"tex2jax_ignore\"><div class=\"entities\" style=\"line-height: 2.5; direction: ltr\">My office is located at \n",
       "<mark class=\"entity\" style=\"background: #ddd; padding: 0.45em 0.6em; margin: 0 0.25em; line-height: 1; border-radius: 0.35em;\">\n",
       "    P.O. Box 107050\n",
       "    <span style=\"font-size: 0.8em; font-weight: bold; line-height: 1; border-radius: 0.35em; vertical-align: middle; margin-left: 0.5rem\">P_O_BOX</span>\n",
       "</mark>\n",
       ", \n",
       "<mark class=\"entity\" style=\"background: #ddd; padding: 0.45em 0.6em; margin: 0 0.25em; line-height: 1; border-radius: 0.35em;\">\n",
       "    Albany\n",
       "    <span style=\"font-size: 0.8em; font-weight: bold; line-height: 1; border-radius: 0.35em; vertical-align: middle; margin-left: 0.5rem\">POTENTIAL_CITY_OR_STATE_OR_COUNTRY_NAME</span>\n",
       "</mark>\n",
       ", \n",
       "<mark class=\"entity\" style=\"background: #ddd; padding: 0.45em 0.6em; margin: 0 0.25em; line-height: 1; border-radius: 0.35em;\">\n",
       "    NY\n",
       "    <span style=\"font-size: 0.8em; font-weight: bold; line-height: 1; border-radius: 0.35em; vertical-align: middle; margin-left: 0.5rem\">POTENTIAL_CITY_OR_STATE_OR_COUNTRY_NAME</span>\n",
       "</mark>\n",
       " \n",
       "<mark class=\"entity\" style=\"background: #ddd; padding: 0.45em 0.6em; margin: 0 0.25em; line-height: 1; border-radius: 0.35em;\">\n",
       "    12201-7050\n",
       "    <span style=\"font-size: 0.8em; font-weight: bold; line-height: 1; border-radius: 0.35em; vertical-align: middle; margin-left: 0.5rem\">ZIP_CODE</span>\n",
       "</mark>\n",
       "</div></span>"
      ],
      "text/plain": [
       "<IPython.core.display.HTML object>"
      ]
     },
     "metadata": {},
     "output_type": "display_data"
    },
    {
     "name": "stdout",
     "output_type": "stream",
     "text": [
      "\u001b[1mProcessing Sentence 13 \u001b[1m\n"
     ]
    },
    {
     "data": {
      "text/html": [
       "<span class=\"tex2jax_ignore\"><div class=\"entities\" style=\"line-height: 2.5; direction: ltr\">My office is located at \n",
       "<mark class=\"entity\" style=\"background: #ddd; padding: 0.45em 0.6em; margin: 0 0.25em; line-height: 1; border-radius: 0.35em;\">\n",
       "    P.O. Box 107050\n",
       "    <span style=\"font-size: 0.8em; font-weight: bold; line-height: 1; border-radius: 0.35em; vertical-align: middle; margin-left: 0.5rem\">P_O_BOX</span>\n",
       "</mark>\n",
       ", \n",
       "<mark class=\"entity\" style=\"background: #ddd; padding: 0.45em 0.6em; margin: 0 0.25em; line-height: 1; border-radius: 0.35em;\">\n",
       "    Albany\n",
       "    <span style=\"font-size: 0.8em; font-weight: bold; line-height: 1; border-radius: 0.35em; vertical-align: middle; margin-left: 0.5rem\">POTENTIAL_CITY_OR_STATE_OR_COUNTRY_NAME</span>\n",
       "</mark>\n",
       ", \n",
       "<mark class=\"entity\" style=\"background: #ddd; padding: 0.45em 0.6em; margin: 0 0.25em; line-height: 1; border-radius: 0.35em;\">\n",
       "    NY\n",
       "    <span style=\"font-size: 0.8em; font-weight: bold; line-height: 1; border-radius: 0.35em; vertical-align: middle; margin-left: 0.5rem\">POTENTIAL_CITY_OR_STATE_OR_COUNTRY_NAME</span>\n",
       "</mark>\n",
       " \n",
       "<mark class=\"entity\" style=\"background: #ddd; padding: 0.45em 0.6em; margin: 0 0.25em; line-height: 1; border-radius: 0.35em;\">\n",
       "    12201\n",
       "    <span style=\"font-size: 0.8em; font-weight: bold; line-height: 1; border-radius: 0.35em; vertical-align: middle; margin-left: 0.5rem\">ZIP_CODE</span>\n",
       "</mark>\n",
       "</div></span>"
      ],
      "text/plain": [
       "<IPython.core.display.HTML object>"
      ]
     },
     "metadata": {},
     "output_type": "display_data"
    }
   ],
   "source": [
    "first_degree_address_nlp = create_first_degree_address_nlp(first_degree_address_patterns)\n",
    "\n",
    "for i, doc in enumerate(first_degree_address_nlp.pipe(sample_address_sentences,\n",
    "             as_tuples=False\n",
    "            )):\n",
    "    print(f\"\\033[1mProcessing Sentence {i} \\033[1m\")\n",
    "    displacy.render(doc,\n",
    "                    style='ent',\n",
    "                   )"
   ]
  },
  {
   "cell_type": "code",
   "execution_count": 102,
   "id": "f3bb7950",
   "metadata": {},
   "outputs": [],
   "source": [
    "# pattern for: 1 American rd, Dearborn, MI 48126, United States\n",
    "# pattenr for: 1 American High way, South Dakota 48126, United States\n",
    "# pattern for: 1 American rd, Dearborn, MI, United States\n",
    "# pattern for: 717 N 2ND ST, MANKATO, MN 56001 US\n",
    "ADDRESS_PATTERN_1 = [{\"label\":\"ADDRESS\",\n",
    "                     \"pattern\":[{\"ENT_TYPE\":\"POTENTIAL_DOOR_NUM\"},\n",
    "                                {\"TEXT\":{\"REGEX\":\"\\\\W{1,2}\"},\"OP\":\"?\"},\n",
    "                                {\"ENT_TYPE\":\"POTENTIAL_STREET_NAME\",\"OP\":\"+\"},\n",
    "                                {\"TEXT\":{\"REGEX\":\"\\\\W{1,2}\"},\"OP\":\"?\"},\n",
    "                                {\"ENT_TYPE\":\"POTENTIAL_CITY_OR_STATE_OR_COUNTRY_NAME\",\"OP\":\"*\"},\n",
    "                                {\"TEXT\":{\"REGEX\":\"\\\\W{1,2}\"},\"OP\":\"?\"},\n",
    "                                {\"ENT_TYPE\":\"POTENTIAL_CITY_OR_STATE_OR_COUNTRY_NAME\",\"OP\":\"*\"},\n",
    "                                {\"TEXT\":{\"REGEX\":\"\\\\W{1,2}\"},\"OP\":\"?\"},\n",
    "                                {\"ENT_TYPE\":\"ZIP_CODE\",\"OP\":\"*\"},\n",
    "                                {\"TEXT\":{\"REGEX\":\"\\\\W{1,2}\"},\"OP\":\"?\"}, \n",
    "                                {\"ENT_TYPE\":\"POTENTIAL_CITY_OR_STATE_OR_COUNTRY_NAME\",\"OP\":\"+\"},\n",
    "                               ]  \n",
    "                   },\n",
    "                   ]\n",
    "\n",
    "# pattern for: one American Road Dearborb Michigan 48126 United States\n",
    "ADDRESS_PATTERN_2 = [{\"label\":\"ADDRESS\",\n",
    "                     \"pattern\":[{\"ENT_TYPE\":\"POTENTIAL_DOOR_NUM\"},\n",
    "                                {\"TEXT\":{\"REGEX\":\"\\\\W{1,2}\"},\"OP\":\"?\"},\n",
    "                                {\"ENT_TYPE\":\"POTENTIAL_CITY_OR_STATE_OR_COUNTRY_NAME\",\"OP\":\"+\"},\n",
    "                                {\"TEXT\":{\"REGEX\":\"\\\\W{1,2}\"},\"OP\":\"?\"},\n",
    "                                {\"ENT_TYPE\":\"ZIP_CODE\",\"OP\":\"*\"},\n",
    "                                {\"TEXT\":{\"REGEX\":\"\\\\W{1,2}\"},\"OP\":\"?\"}, \n",
    "                                {\"ENT_TYPE\":\"POTENTIAL_CITY_OR_STATE_OR_COUNTRY_NAME\",\"OP\":\"+\"},\n",
    "                               ]  \n",
    "                   },\n",
    "                   ]\n",
    "\n",
    "# 717 N 2ND ST, MANKATO, MN, 56001\n",
    "# 717 N 2ND ST MANKATO MN 56001\n",
    "ADDRESS_PATTERN_3 = [{\"label\": \"ADDRESS\",\n",
    "                      \"pattern\":[{\"ENT_TYPE\":\"POTENTIAL_DOOR_NUM\"},\n",
    "                                 {\"TEXT\":{\"REGEX\":\"\\\\W{1,2}\"},\"OP\":\"?\"},\n",
    "                                 {\"ENT_TYPE\":\"POTENTIAL_STREET_NAME\",\"OP\":\"+\"},\n",
    "                                 {\"TEXT\":{\"REGEX\":\"\\\\W{1,2}\"},\"OP\":\"?\"},\n",
    "                                 {\"ENT_TYPE\":\"POTENTIAL_CITY_OR_STATE_OR_COUNTRY_NAME\",\"OP\":\"+\"},\n",
    "                                 {\"TEXT\":{\"REGEX\":\"\\\\W{1,2}\"},\"OP\":\"?\"},\n",
    "                                 {\"ENT_TYPE\":\"ZIP_CODE\",\"OP\":\"+\"},\n",
    "                      ]\n",
    "                     }\n",
    "                    ]\n",
    "\n",
    "# Chennai, TamilNadu\n",
    "# Dearborn Michigan\n",
    "ADDRESS_PATTERN_4 = [{\"label\": \"ADDRESS\",\n",
    "                      \"pattern\":[{\"ENT_TYPE\":\"POTENTIAL_CITY_OR_STATE_OR_COUNTRY_NAME\",\"OP\":\"+\"},\n",
    "                                 {\"TEXT\":{\"REGEX\":\"\\\\W{1,2}\"},\"OP\":\"?\"},\n",
    "                      ]\n",
    "                     }\n",
    "                    ]\n",
    "\n",
    "# PO Box 107050, Albany, NY 12201-7050\n",
    "# PO Box 107050, Albany, NY 12201\n",
    "# PO Box 107050, Albany, NY, US 12201\n",
    "ADDRESS_PATTERN_5 = [{\"label\": \"ADDRESS\",\n",
    "                      \"pattern\":[{\"ENT_TYPE\":\"P_O_BOX\",\"OP\":\"+\"},\n",
    "                                 {\"TEXT\":{\"REGEX\":\"\\\\W{1,2}\"},\"OP\":\"?\"},\n",
    "                                 {\"ENT_TYPE\":\"POTENTIAL_CITY_OR_STATE_OR_COUNTRY_NAME\",\"OP\":\"+\"},\n",
    "                                 {\"TEXT\":{\"REGEX\":\"\\\\W{1,2}\"},\"OP\":\"?\"},\n",
    "                                 {\"ENT_TYPE\":\"POTENTIAL_CITY_OR_STATE_OR_COUNTRY_NAME\",\"OP\":\"+\"},\n",
    "                                 {\"TEXT\":{\"REGEX\":\"\\\\W{1,2}\"},\"OP\":\"?\"},\n",
    "                                 {\"ENT_TYPE\":\"POTENTIAL_CITY_OR_STATE_OR_COUNTRY_NAME\",\"OP\":\"?\"},\n",
    "                                 {\"TEXT\":{\"REGEX\":\"\\\\W{1,2}\"},\"OP\":\"?\"},\n",
    "                                 {\"ENT_TYPE\":\"ZIP_CODE\",\"OP\":\"+\"},\n",
    "                                 \n",
    "                      ]\n",
    "                     }\n",
    "                    ]\n",
    "\n",
    "second_degree_address_patterns = ADDRESS_PATTERN_1 + ADDRESS_PATTERN_2 + ADDRESS_PATTERN_3 + ADDRESS_PATTERN_4 + ADDRESS_PATTERN_5\n",
    "\n",
    "def create_second_degree_address_nlp(first_degree_address_patterns,\n",
    "                                          second_degree_address_patterns\n",
    "                                         ):\n",
    "    second_degree_address_nlp = spacy.load('en_core_web_sm', disable=['ner'])\n",
    "    rules_config = {\"validate\": True,\n",
    "                    \"overwrite_ents\": True,\n",
    "                   }\n",
    "    first_degree_rules = second_degree_address_nlp.add_pipe(\"entity_ruler\",\n",
    "                                                           \"first_degree_rules\",\n",
    "                                                           config=rules_config)\n",
    "    first_degree_rules.add_patterns(first_degree_address_patterns)\n",
    "    \n",
    "    second_degree_rules = second_degree_address_nlp.add_pipe(\"entity_ruler\",\n",
    "                                                           \"second_degree_rules\",\n",
    "                                                           config=rules_config,\n",
    "                                                           after='first_degree_rules')\n",
    "    second_degree_rules.add_patterns(second_degree_address_patterns)\n",
    "    return second_degree_address_nlp"
   ]
  },
  {
   "cell_type": "code",
   "execution_count": 103,
   "id": "c73b490f",
   "metadata": {},
   "outputs": [
    {
     "name": "stdout",
     "output_type": "stream",
     "text": [
      "\u001b[1mProcessing Sentence 0 \u001b[1m\n"
     ]
    },
    {
     "data": {
      "text/html": [
       "<span class=\"tex2jax_ignore\"><div class=\"entities\" style=\"line-height: 2.5; direction: ltr\">My office is located at \n",
       "<mark class=\"entity\" style=\"background: #ddd; padding: 0.45em 0.6em; margin: 0 0.25em; line-height: 1; border-radius: 0.35em;\">\n",
       "    1 American rd, Dearborn, MI 48126, United States\n",
       "    <span style=\"font-size: 0.8em; font-weight: bold; line-height: 1; border-radius: 0.35em; vertical-align: middle; margin-left: 0.5rem\">ADDRESS</span>\n",
       "</mark>\n",
       "</div></span>"
      ],
      "text/plain": [
       "<IPython.core.display.HTML object>"
      ]
     },
     "metadata": {},
     "output_type": "display_data"
    },
    {
     "name": "stdout",
     "output_type": "stream",
     "text": [
      "\u001b[1mProcessing Sentence 1 \u001b[1m\n"
     ]
    },
    {
     "data": {
      "text/html": [
       "<span class=\"tex2jax_ignore\"><div class=\"entities\" style=\"line-height: 2.5; direction: ltr\">My office is located at \n",
       "<mark class=\"entity\" style=\"background: #ddd; padding: 0.45em 0.6em; margin: 0 0.25em; line-height: 1; border-radius: 0.35em;\">\n",
       "    one American Road Dearborb Michigan 48126 United States\n",
       "    <span style=\"font-size: 0.8em; font-weight: bold; line-height: 1; border-radius: 0.35em; vertical-align: middle; margin-left: 0.5rem\">ADDRESS</span>\n",
       "</mark>\n",
       "</div></span>"
      ],
      "text/plain": [
       "<IPython.core.display.HTML object>"
      ]
     },
     "metadata": {},
     "output_type": "display_data"
    },
    {
     "name": "stdout",
     "output_type": "stream",
     "text": [
      "\u001b[1mProcessing Sentence 2 \u001b[1m\n"
     ]
    },
    {
     "data": {
      "text/html": [
       "<span class=\"tex2jax_ignore\"><div class=\"entities\" style=\"line-height: 2.5; direction: ltr\">My office is located at \n",
       "<mark class=\"entity\" style=\"background: #ddd; padding: 0.45em 0.6em; margin: 0 0.25em; line-height: 1; border-radius: 0.35em;\">\n",
       "    1 American High way, South Dakota 48126, United States\n",
       "    <span style=\"font-size: 0.8em; font-weight: bold; line-height: 1; border-radius: 0.35em; vertical-align: middle; margin-left: 0.5rem\">ADDRESS</span>\n",
       "</mark>\n",
       "</div></span>"
      ],
      "text/plain": [
       "<IPython.core.display.HTML object>"
      ]
     },
     "metadata": {},
     "output_type": "display_data"
    },
    {
     "name": "stdout",
     "output_type": "stream",
     "text": [
      "\u001b[1mProcessing Sentence 3 \u001b[1m\n"
     ]
    },
    {
     "data": {
      "text/html": [
       "<span class=\"tex2jax_ignore\"><div class=\"entities\" style=\"line-height: 2.5; direction: ltr\">My office is located at \n",
       "<mark class=\"entity\" style=\"background: #ddd; padding: 0.45em 0.6em; margin: 0 0.25em; line-height: 1; border-radius: 0.35em;\">\n",
       "    1 American rd, Dearborn, MI, United States\n",
       "    <span style=\"font-size: 0.8em; font-weight: bold; line-height: 1; border-radius: 0.35em; vertical-align: middle; margin-left: 0.5rem\">ADDRESS</span>\n",
       "</mark>\n",
       "</div></span>"
      ],
      "text/plain": [
       "<IPython.core.display.HTML object>"
      ]
     },
     "metadata": {},
     "output_type": "display_data"
    },
    {
     "name": "stdout",
     "output_type": "stream",
     "text": [
      "\u001b[1mProcessing Sentence 4 \u001b[1m\n"
     ]
    },
    {
     "data": {
      "text/html": [
       "<span class=\"tex2jax_ignore\"><div class=\"entities\" style=\"line-height: 2.5; direction: ltr\">My office is located at \n",
       "<mark class=\"entity\" style=\"background: #ddd; padding: 0.45em 0.6em; margin: 0 0.25em; line-height: 1; border-radius: 0.35em;\">\n",
       "    717 N 2ND ST, MANKATO, MN 56001 US\n",
       "    <span style=\"font-size: 0.8em; font-weight: bold; line-height: 1; border-radius: 0.35em; vertical-align: middle; margin-left: 0.5rem\">ADDRESS</span>\n",
       "</mark>\n",
       "</div></span>"
      ],
      "text/plain": [
       "<IPython.core.display.HTML object>"
      ]
     },
     "metadata": {},
     "output_type": "display_data"
    },
    {
     "name": "stdout",
     "output_type": "stream",
     "text": [
      "\u001b[1mProcessing Sentence 5 \u001b[1m\n"
     ]
    },
    {
     "data": {
      "text/html": [
       "<span class=\"tex2jax_ignore\"><div class=\"entities\" style=\"line-height: 2.5; direction: ltr\">My office is located at \n",
       "<mark class=\"entity\" style=\"background: #ddd; padding: 0.45em 0.6em; margin: 0 0.25em; line-height: 1; border-radius: 0.35em;\">\n",
       "    717 N 2ND ST, MANKATO, MN\n",
       "    <span style=\"font-size: 0.8em; font-weight: bold; line-height: 1; border-radius: 0.35em; vertical-align: middle; margin-left: 0.5rem\">ADDRESS</span>\n",
       "</mark>\n",
       ", \n",
       "<mark class=\"entity\" style=\"background: #ddd; padding: 0.45em 0.6em; margin: 0 0.25em; line-height: 1; border-radius: 0.35em;\">\n",
       "    56001\n",
       "    <span style=\"font-size: 0.8em; font-weight: bold; line-height: 1; border-radius: 0.35em; vertical-align: middle; margin-left: 0.5rem\">ZIP_CODE</span>\n",
       "</mark>\n",
       "</div></span>"
      ],
      "text/plain": [
       "<IPython.core.display.HTML object>"
      ]
     },
     "metadata": {},
     "output_type": "display_data"
    },
    {
     "name": "stdout",
     "output_type": "stream",
     "text": [
      "\u001b[1mProcessing Sentence 6 \u001b[1m\n"
     ]
    },
    {
     "data": {
      "text/html": [
       "<span class=\"tex2jax_ignore\"><div class=\"entities\" style=\"line-height: 2.5; direction: ltr\">My office is located at \n",
       "<mark class=\"entity\" style=\"background: #ddd; padding: 0.45em 0.6em; margin: 0 0.25em; line-height: 1; border-radius: 0.35em;\">\n",
       "    717 N 2ND ST MANKATO MN 56001\n",
       "    <span style=\"font-size: 0.8em; font-weight: bold; line-height: 1; border-radius: 0.35em; vertical-align: middle; margin-left: 0.5rem\">ADDRESS</span>\n",
       "</mark>\n",
       "</div></span>"
      ],
      "text/plain": [
       "<IPython.core.display.HTML object>"
      ]
     },
     "metadata": {},
     "output_type": "display_data"
    },
    {
     "name": "stdout",
     "output_type": "stream",
     "text": [
      "\u001b[1mProcessing Sentence 7 \u001b[1m\n"
     ]
    },
    {
     "data": {
      "text/html": [
       "<span class=\"tex2jax_ignore\"><div class=\"entities\" style=\"line-height: 2.5; direction: ltr\">My office is located at \n",
       "<mark class=\"entity\" style=\"background: #ddd; padding: 0.45em 0.6em; margin: 0 0.25em; line-height: 1; border-radius: 0.35em;\">\n",
       "    Dearborn Michigan\n",
       "    <span style=\"font-size: 0.8em; font-weight: bold; line-height: 1; border-radius: 0.35em; vertical-align: middle; margin-left: 0.5rem\">ADDRESS</span>\n",
       "</mark>\n",
       "</div></span>"
      ],
      "text/plain": [
       "<IPython.core.display.HTML object>"
      ]
     },
     "metadata": {},
     "output_type": "display_data"
    },
    {
     "name": "stdout",
     "output_type": "stream",
     "text": [
      "\u001b[1mProcessing Sentence 8 \u001b[1m\n"
     ]
    },
    {
     "data": {
      "text/html": [
       "<span class=\"tex2jax_ignore\"><div class=\"entities\" style=\"line-height: 2.5; direction: ltr\">My office is located at \n",
       "<mark class=\"entity\" style=\"background: #ddd; padding: 0.45em 0.6em; margin: 0 0.25em; line-height: 1; border-radius: 0.35em;\">\n",
       "    Chennai,\n",
       "    <span style=\"font-size: 0.8em; font-weight: bold; line-height: 1; border-radius: 0.35em; vertical-align: middle; margin-left: 0.5rem\">ADDRESS</span>\n",
       "</mark>\n",
       " \n",
       "<mark class=\"entity\" style=\"background: #ddd; padding: 0.45em 0.6em; margin: 0 0.25em; line-height: 1; border-radius: 0.35em;\">\n",
       "    TamilNadu\n",
       "    <span style=\"font-size: 0.8em; font-weight: bold; line-height: 1; border-radius: 0.35em; vertical-align: middle; margin-left: 0.5rem\">ADDRESS</span>\n",
       "</mark>\n",
       "</div></span>"
      ],
      "text/plain": [
       "<IPython.core.display.HTML object>"
      ]
     },
     "metadata": {},
     "output_type": "display_data"
    },
    {
     "name": "stdout",
     "output_type": "stream",
     "text": [
      "\u001b[1mProcessing Sentence 9 \u001b[1m\n"
     ]
    },
    {
     "data": {
      "text/html": [
       "<span class=\"tex2jax_ignore\"><div class=\"entities\" style=\"line-height: 2.5; direction: ltr\">My office is located at \n",
       "<mark class=\"entity\" style=\"background: #ddd; padding: 0.45em 0.6em; margin: 0 0.25em; line-height: 1; border-radius: 0.35em;\">\n",
       "    Dearborn,\n",
       "    <span style=\"font-size: 0.8em; font-weight: bold; line-height: 1; border-radius: 0.35em; vertical-align: middle; margin-left: 0.5rem\">ADDRESS</span>\n",
       "</mark>\n",
       " \n",
       "<mark class=\"entity\" style=\"background: #ddd; padding: 0.45em 0.6em; margin: 0 0.25em; line-height: 1; border-radius: 0.35em;\">\n",
       "    Michigan\n",
       "    <span style=\"font-size: 0.8em; font-weight: bold; line-height: 1; border-radius: 0.35em; vertical-align: middle; margin-left: 0.5rem\">ADDRESS</span>\n",
       "</mark>\n",
       "</div></span>"
      ],
      "text/plain": [
       "<IPython.core.display.HTML object>"
      ]
     },
     "metadata": {},
     "output_type": "display_data"
    },
    {
     "name": "stdout",
     "output_type": "stream",
     "text": [
      "\u001b[1mProcessing Sentence 10 \u001b[1m\n"
     ]
    },
    {
     "data": {
      "text/html": [
       "<span class=\"tex2jax_ignore\"><div class=\"entities\" style=\"line-height: 2.5; direction: ltr\">My office is located at \n",
       "<mark class=\"entity\" style=\"background: #ddd; padding: 0.45em 0.6em; margin: 0 0.25em; line-height: 1; border-radius: 0.35em;\">\n",
       "    PO Box 107050, Albany, NY 12201-7050\n",
       "    <span style=\"font-size: 0.8em; font-weight: bold; line-height: 1; border-radius: 0.35em; vertical-align: middle; margin-left: 0.5rem\">ADDRESS</span>\n",
       "</mark>\n",
       "</div></span>"
      ],
      "text/plain": [
       "<IPython.core.display.HTML object>"
      ]
     },
     "metadata": {},
     "output_type": "display_data"
    },
    {
     "name": "stdout",
     "output_type": "stream",
     "text": [
      "\u001b[1mProcessing Sentence 11 \u001b[1m\n"
     ]
    },
    {
     "data": {
      "text/html": [
       "<span class=\"tex2jax_ignore\"><div class=\"entities\" style=\"line-height: 2.5; direction: ltr\">My office is located at \n",
       "<mark class=\"entity\" style=\"background: #ddd; padding: 0.45em 0.6em; margin: 0 0.25em; line-height: 1; border-radius: 0.35em;\">\n",
       "    PO Box 107050, Albany, NY 12201\n",
       "    <span style=\"font-size: 0.8em; font-weight: bold; line-height: 1; border-radius: 0.35em; vertical-align: middle; margin-left: 0.5rem\">ADDRESS</span>\n",
       "</mark>\n",
       "</div></span>"
      ],
      "text/plain": [
       "<IPython.core.display.HTML object>"
      ]
     },
     "metadata": {},
     "output_type": "display_data"
    },
    {
     "name": "stdout",
     "output_type": "stream",
     "text": [
      "\u001b[1mProcessing Sentence 12 \u001b[1m\n"
     ]
    },
    {
     "data": {
      "text/html": [
       "<span class=\"tex2jax_ignore\"><div class=\"entities\" style=\"line-height: 2.5; direction: ltr\">My office is located at \n",
       "<mark class=\"entity\" style=\"background: #ddd; padding: 0.45em 0.6em; margin: 0 0.25em; line-height: 1; border-radius: 0.35em;\">\n",
       "    P.O. Box 107050, Albany, NY 12201-7050\n",
       "    <span style=\"font-size: 0.8em; font-weight: bold; line-height: 1; border-radius: 0.35em; vertical-align: middle; margin-left: 0.5rem\">ADDRESS</span>\n",
       "</mark>\n",
       "</div></span>"
      ],
      "text/plain": [
       "<IPython.core.display.HTML object>"
      ]
     },
     "metadata": {},
     "output_type": "display_data"
    },
    {
     "name": "stdout",
     "output_type": "stream",
     "text": [
      "\u001b[1mProcessing Sentence 13 \u001b[1m\n"
     ]
    },
    {
     "data": {
      "text/html": [
       "<span class=\"tex2jax_ignore\"><div class=\"entities\" style=\"line-height: 2.5; direction: ltr\">My office is located at \n",
       "<mark class=\"entity\" style=\"background: #ddd; padding: 0.45em 0.6em; margin: 0 0.25em; line-height: 1; border-radius: 0.35em;\">\n",
       "    P.O. Box 107050, Albany, NY 12201\n",
       "    <span style=\"font-size: 0.8em; font-weight: bold; line-height: 1; border-radius: 0.35em; vertical-align: middle; margin-left: 0.5rem\">ADDRESS</span>\n",
       "</mark>\n",
       "</div></span>"
      ],
      "text/plain": [
       "<IPython.core.display.HTML object>"
      ]
     },
     "metadata": {},
     "output_type": "display_data"
    }
   ],
   "source": [
    "second_degree_address_nlp = create_second_degree_address_nlp(first_degree_address_patterns, second_degree_address_patterns)\n",
    "\n",
    "for i, doc in enumerate(second_degree_address_nlp.pipe(sample_address_sentences,\n",
    "             as_tuples=False\n",
    "            )):\n",
    "    print(f\"\\033[1mProcessing Sentence {i} \\033[1m\")\n",
    "    displacy.render(doc,\n",
    "                    style='ent',\n",
    "                   )"
   ]
  },
  {
   "cell_type": "markdown",
   "id": "400fcc75",
   "metadata": {},
   "source": [
    "## 4. How to save Rules NER as a package"
   ]
  },
  {
   "cell_type": "markdown",
   "id": "6ff57953",
   "metadata": {},
   "source": [
    "- Save the rules ner model `phone_nlp` to a physical location using `nlp.to_disk`\n",
    "- Save the custom components in a py file  `spacy_rules_ner/phone_functions.py`\n",
    "- use `python -m spacy package input_dir output_dir --code location/to/custom_components.py --name new_model_name` to generate `.tar.gz` format package\n",
    "- Pip install the tar.gz file using `pip install location/to/tar.gz`\n",
    "- `spacy.load('new_model_name')` will load your package with custom components"
   ]
  },
  {
   "cell_type": "code",
   "execution_count": 104,
   "id": "b99f0a00",
   "metadata": {},
   "outputs": [],
   "source": [
    "!mkdir -p spacy_rules_ner/phone_nlp"
   ]
  },
  {
   "cell_type": "code",
   "execution_count": 105,
   "id": "dd8684ef",
   "metadata": {},
   "outputs": [],
   "source": [
    "#collapse-show\n",
    "# Let us save the `phone_nlp` and the custom component pipeline \n",
    "\n",
    "phone_nlp.to_disk('spacy_rules_ner/phone_nlp')"
   ]
  },
  {
   "cell_type": "code",
   "execution_count": 109,
   "id": "05e70409",
   "metadata": {},
   "outputs": [
    {
     "name": "stdout",
     "output_type": "stream",
     "text": [
      "attribute_ruler  lemmatizer  ner     phone_nlp_rules  tagger   tokenizer\r\n",
      "config.cfg\t meta.json   parser  senter\t      tok2vec  vocab\r\n"
     ]
    }
   ],
   "source": [
    "!ls spacy_rules_ner/phone_nlp"
   ]
  },
  {
   "cell_type": "code",
   "execution_count": 128,
   "id": "e81f1b72",
   "metadata": {},
   "outputs": [
    {
     "name": "stdout",
     "output_type": "stream",
     "text": [
      "Overwriting spacy_rules_ner/phone_functions.py\n"
     ]
    }
   ],
   "source": [
    "%%writefile spacy_rules_ner/phone_functions.py\n",
    "\n",
    "import json\n",
    "import spacy\n",
    "import re \n",
    "from spacy import Language\n",
    "from spacy.tokens import Span\n",
    "from spacy.util import filter_spans\n",
    "\n",
    "def load_entity_ruler_based_phone_pattern(location_spacy_json):\n",
    "    loaded_spacy_patterns = json.load(open(location_spacy_json,'r',encoding='utf-8'))\n",
    "    phone_nlp = spacy.load('en_core_web_sm', disable=['ner'])\n",
    "    rules_config = {\n",
    "        \"validate\": True,\n",
    "        \"overwrite_ents\": True,\n",
    "    }\n",
    "\n",
    "    phone_nlp_rules = phone_nlp.add_pipe(\"entity_ruler\", # invoke entity_ruler pipe \n",
    "                                         \"phone_nlp_rules\", # give a name to the pipe\n",
    "                                         config=rules_config)\n",
    "    phone_nlp_rules.add_patterns(loaded_spacy_patterns) # load patterns to the `phone_nlp_rules` pipe of `phone_nlp` model\n",
    "    return phone_nlp\n",
    "       \n",
    "location_spacy_json = 'spacy_rules_ner/phone_patterns.json'\n",
    "\n",
    "phone_nlp = load_entity_ruler_based_phone_pattern(location_spacy_json)\n",
    "\n",
    "print(\"Pipeline Components before adding regex custom component:\")\n",
    "print(phone_nlp.pipe_names)\n",
    "print()\n",
    "print(\"Entities tracked in phone_nlp_rules\")\n",
    "print(phone_nlp.pipe_labels['phone_nlp_rules'])\n",
    "\n",
    "phone_regex_pattern = r\"([+]?[\\d]?[\\d]?.?[(]?\\d{3}[)]?.?\\d{3}.?\\d{4})\"\n",
    "\n",
    "#noting the token position for every character in a doc\n",
    "\n",
    "def generate_chars2tokens_dict(doc):\n",
    "    chars_to_tokens = {}\n",
    "    for token in doc:\n",
    "        for i in range(token.idx, token.idx + len(token.text)):\n",
    "            chars_to_tokens[i] = token.i\n",
    "    return chars_to_tokens\n",
    "\n",
    "\n",
    "@Language.component(\"phone_multitoken_regex_capture\")\n",
    "def phone_multitoken_regex_capture(doc):\n",
    "    original_ents = list(doc.ents)\n",
    "    chars_to_tokens = generate_chars2tokens_dict(doc)\n",
    "    phone_regex_ents = []\n",
    "    for match in re.finditer(phone_regex_pattern, doc.text):\n",
    "        start, end = match.span()\n",
    "        span = doc.char_span(start, end)\n",
    "        if span is not None:\n",
    "            phone_regex_ents.append((span.start, span.end, span.text))\n",
    "        else:\n",
    "            start_token = chars_to_tokens.get(start)\n",
    "            end_token = chars_to_tokens.get(end)\n",
    "            if start_token is not None and end_token is not None:\n",
    "                span = doc[start_token:end_token + 1]\n",
    "                phone_regex_ents.append((span.start, span.end, span.text))\n",
    "    for regex_ent in phone_regex_ents:\n",
    "        start_char, end_char, span_text = regex_ent\n",
    "        proper_spacy_ent = Span(doc, start_char, end_char, label=\"PHONE\")\n",
    "        original_ents.append(proper_spacy_ent)     \n",
    "    filtered = filter_spans(original_ents) #removes overlapping ents\n",
    "    doc.ents = filtered\n",
    "    return doc\n",
    "\n",
    "\n",
    "phone_nlp.add_pipe(\"phone_multitoken_regex_capture\", after=\"phone_nlp_rules\")\n",
    "\n",
    "print(\"Pipeline Components after adding regex custom component:\")\n",
    "print(phone_nlp.pipe_names)\n",
    "\n",
    "# inspiration for the above code piece: \n",
    "# https://spacy.io/usage/rule-based-matching#regex-text"
   ]
  },
  {
   "cell_type": "code",
   "execution_count": 131,
   "id": "4e908912",
   "metadata": {},
   "outputs": [],
   "source": [
    "# create the output_dir\n",
    "!mkdir -p ./spacy_rules_ner/packaged_phone_nlp"
   ]
  },
  {
   "cell_type": "code",
   "execution_count": 136,
   "id": "e6955185",
   "metadata": {},
   "outputs": [
    {
     "name": "stdout",
     "output_type": "stream",
     "text": [
      "\u001b[38;5;4mℹ Building package artifacts: sdist\u001b[0m\n",
      "Pipeline Components before adding regex custom component:\n",
      "['tok2vec', 'tagger', 'parser', 'attribute_ruler', 'lemmatizer', 'phone_nlp_rules']\n",
      "\n",
      "Entities tracked in phone_nlp_rules\n",
      "['PHONE']\n",
      "Pipeline Components after adding regex custom component:\n",
      "['tok2vec', 'tagger', 'parser', 'attribute_ruler', 'lemmatizer', 'phone_nlp_rules', 'phone_multitoken_regex_capture']\n",
      "\u001b[38;5;2m✔ Including 1 Python module(s) with custom code\u001b[0m\n",
      "\u001b[38;5;2m✔ Loaded meta.json from file\u001b[0m\n",
      "spacy_rules_ner/phone_nlp/meta.json\n",
      "\u001b[38;5;2m✔ Generated README.md from meta.json\u001b[0m\n",
      "\u001b[38;5;2m✔ Successfully created package 'en_phone_nlp_2-3.1.0'\u001b[0m\n",
      "spacy_rules_ner/packaged_phone_nlp/en_phone_nlp_2-3.1.0\n",
      "running sdist\n",
      "running egg_info\n",
      "creating en_phone_nlp_2.egg-info\n",
      "writing en_phone_nlp_2.egg-info/PKG-INFO\n",
      "writing dependency_links to en_phone_nlp_2.egg-info/dependency_links.txt\n",
      "writing entry points to en_phone_nlp_2.egg-info/entry_points.txt\n",
      "writing requirements to en_phone_nlp_2.egg-info/requires.txt\n",
      "writing top-level names to en_phone_nlp_2.egg-info/top_level.txt\n",
      "writing manifest file 'en_phone_nlp_2.egg-info/SOURCES.txt'\n",
      "reading manifest file 'en_phone_nlp_2.egg-info/SOURCES.txt'\n",
      "reading manifest template 'MANIFEST.in'\n",
      "warning: no files found matching 'LICENSE'\n",
      "warning: no files found matching 'LICENSES_SOURCES'\n",
      "writing manifest file 'en_phone_nlp_2.egg-info/SOURCES.txt'\n",
      "running check\n",
      "creating en_phone_nlp_2-3.1.0\n",
      "creating en_phone_nlp_2-3.1.0/en_phone_nlp_2\n",
      "creating en_phone_nlp_2-3.1.0/en_phone_nlp_2.egg-info\n",
      "creating en_phone_nlp_2-3.1.0/en_phone_nlp_2/en_phone_nlp_2-3.1.0\n",
      "creating en_phone_nlp_2-3.1.0/en_phone_nlp_2/en_phone_nlp_2-3.1.0/attribute_ruler\n",
      "creating en_phone_nlp_2-3.1.0/en_phone_nlp_2/en_phone_nlp_2-3.1.0/lemmatizer\n",
      "creating en_phone_nlp_2-3.1.0/en_phone_nlp_2/en_phone_nlp_2-3.1.0/lemmatizer/lookups\n",
      "creating en_phone_nlp_2-3.1.0/en_phone_nlp_2/en_phone_nlp_2-3.1.0/ner\n",
      "creating en_phone_nlp_2-3.1.0/en_phone_nlp_2/en_phone_nlp_2-3.1.0/parser\n",
      "creating en_phone_nlp_2-3.1.0/en_phone_nlp_2/en_phone_nlp_2-3.1.0/phone_nlp_rules\n",
      "creating en_phone_nlp_2-3.1.0/en_phone_nlp_2/en_phone_nlp_2-3.1.0/senter\n",
      "creating en_phone_nlp_2-3.1.0/en_phone_nlp_2/en_phone_nlp_2-3.1.0/tagger\n",
      "creating en_phone_nlp_2-3.1.0/en_phone_nlp_2/en_phone_nlp_2-3.1.0/tok2vec\n",
      "creating en_phone_nlp_2-3.1.0/en_phone_nlp_2/en_phone_nlp_2-3.1.0/vocab\n",
      "copying files to en_phone_nlp_2-3.1.0...\n",
      "copying MANIFEST.in -> en_phone_nlp_2-3.1.0\n",
      "copying README.md -> en_phone_nlp_2-3.1.0\n",
      "copying meta.json -> en_phone_nlp_2-3.1.0\n",
      "copying setup.py -> en_phone_nlp_2-3.1.0\n",
      "copying en_phone_nlp_2/__init__.py -> en_phone_nlp_2-3.1.0/en_phone_nlp_2\n",
      "copying en_phone_nlp_2/meta.json -> en_phone_nlp_2-3.1.0/en_phone_nlp_2\n",
      "copying en_phone_nlp_2/phone_functions.py -> en_phone_nlp_2-3.1.0/en_phone_nlp_2\n",
      "copying en_phone_nlp_2.egg-info/PKG-INFO -> en_phone_nlp_2-3.1.0/en_phone_nlp_2.egg-info\n",
      "copying en_phone_nlp_2.egg-info/SOURCES.txt -> en_phone_nlp_2-3.1.0/en_phone_nlp_2.egg-info\n",
      "copying en_phone_nlp_2.egg-info/dependency_links.txt -> en_phone_nlp_2-3.1.0/en_phone_nlp_2.egg-info\n",
      "copying en_phone_nlp_2.egg-info/entry_points.txt -> en_phone_nlp_2-3.1.0/en_phone_nlp_2.egg-info\n",
      "copying en_phone_nlp_2.egg-info/not-zip-safe -> en_phone_nlp_2-3.1.0/en_phone_nlp_2.egg-info\n",
      "copying en_phone_nlp_2.egg-info/requires.txt -> en_phone_nlp_2-3.1.0/en_phone_nlp_2.egg-info\n",
      "copying en_phone_nlp_2.egg-info/top_level.txt -> en_phone_nlp_2-3.1.0/en_phone_nlp_2.egg-info\n",
      "copying en_phone_nlp_2/en_phone_nlp_2-3.1.0/README.md -> en_phone_nlp_2-3.1.0/en_phone_nlp_2/en_phone_nlp_2-3.1.0\n",
      "copying en_phone_nlp_2/en_phone_nlp_2-3.1.0/config.cfg -> en_phone_nlp_2-3.1.0/en_phone_nlp_2/en_phone_nlp_2-3.1.0\n",
      "copying en_phone_nlp_2/en_phone_nlp_2-3.1.0/meta.json -> en_phone_nlp_2-3.1.0/en_phone_nlp_2/en_phone_nlp_2-3.1.0\n",
      "copying en_phone_nlp_2/en_phone_nlp_2-3.1.0/tokenizer -> en_phone_nlp_2-3.1.0/en_phone_nlp_2/en_phone_nlp_2-3.1.0\n",
      "copying en_phone_nlp_2/en_phone_nlp_2-3.1.0/attribute_ruler/patterns -> en_phone_nlp_2-3.1.0/en_phone_nlp_2/en_phone_nlp_2-3.1.0/attribute_ruler\n",
      "copying en_phone_nlp_2/en_phone_nlp_2-3.1.0/lemmatizer/lookups/lookups.bin -> en_phone_nlp_2-3.1.0/en_phone_nlp_2/en_phone_nlp_2-3.1.0/lemmatizer/lookups\n",
      "copying en_phone_nlp_2/en_phone_nlp_2-3.1.0/ner/cfg -> en_phone_nlp_2-3.1.0/en_phone_nlp_2/en_phone_nlp_2-3.1.0/ner\n",
      "copying en_phone_nlp_2/en_phone_nlp_2-3.1.0/ner/model -> en_phone_nlp_2-3.1.0/en_phone_nlp_2/en_phone_nlp_2-3.1.0/ner\n",
      "copying en_phone_nlp_2/en_phone_nlp_2-3.1.0/ner/moves -> en_phone_nlp_2-3.1.0/en_phone_nlp_2/en_phone_nlp_2-3.1.0/ner\n",
      "copying en_phone_nlp_2/en_phone_nlp_2-3.1.0/parser/cfg -> en_phone_nlp_2-3.1.0/en_phone_nlp_2/en_phone_nlp_2-3.1.0/parser\n",
      "copying en_phone_nlp_2/en_phone_nlp_2-3.1.0/parser/model -> en_phone_nlp_2-3.1.0/en_phone_nlp_2/en_phone_nlp_2-3.1.0/parser\n",
      "copying en_phone_nlp_2/en_phone_nlp_2-3.1.0/parser/moves -> en_phone_nlp_2-3.1.0/en_phone_nlp_2/en_phone_nlp_2-3.1.0/parser\n",
      "copying en_phone_nlp_2/en_phone_nlp_2-3.1.0/phone_nlp_rules/cfg -> en_phone_nlp_2-3.1.0/en_phone_nlp_2/en_phone_nlp_2-3.1.0/phone_nlp_rules\n",
      "copying en_phone_nlp_2/en_phone_nlp_2-3.1.0/phone_nlp_rules/patterns.jsonl -> en_phone_nlp_2-3.1.0/en_phone_nlp_2/en_phone_nlp_2-3.1.0/phone_nlp_rules\n",
      "copying en_phone_nlp_2/en_phone_nlp_2-3.1.0/senter/cfg -> en_phone_nlp_2-3.1.0/en_phone_nlp_2/en_phone_nlp_2-3.1.0/senter\n",
      "copying en_phone_nlp_2/en_phone_nlp_2-3.1.0/senter/model -> en_phone_nlp_2-3.1.0/en_phone_nlp_2/en_phone_nlp_2-3.1.0/senter\n",
      "copying en_phone_nlp_2/en_phone_nlp_2-3.1.0/tagger/cfg -> en_phone_nlp_2-3.1.0/en_phone_nlp_2/en_phone_nlp_2-3.1.0/tagger\n",
      "copying en_phone_nlp_2/en_phone_nlp_2-3.1.0/tagger/model -> en_phone_nlp_2-3.1.0/en_phone_nlp_2/en_phone_nlp_2-3.1.0/tagger\n",
      "copying en_phone_nlp_2/en_phone_nlp_2-3.1.0/tok2vec/cfg -> en_phone_nlp_2-3.1.0/en_phone_nlp_2/en_phone_nlp_2-3.1.0/tok2vec\n",
      "copying en_phone_nlp_2/en_phone_nlp_2-3.1.0/tok2vec/model -> en_phone_nlp_2-3.1.0/en_phone_nlp_2/en_phone_nlp_2-3.1.0/tok2vec\n",
      "copying en_phone_nlp_2/en_phone_nlp_2-3.1.0/vocab/key2row -> en_phone_nlp_2-3.1.0/en_phone_nlp_2/en_phone_nlp_2-3.1.0/vocab\n",
      "copying en_phone_nlp_2/en_phone_nlp_2-3.1.0/vocab/lookups.bin -> en_phone_nlp_2-3.1.0/en_phone_nlp_2/en_phone_nlp_2-3.1.0/vocab\n",
      "copying en_phone_nlp_2/en_phone_nlp_2-3.1.0/vocab/strings.json -> en_phone_nlp_2-3.1.0/en_phone_nlp_2/en_phone_nlp_2-3.1.0/vocab\n",
      "copying en_phone_nlp_2/en_phone_nlp_2-3.1.0/vocab/vectors -> en_phone_nlp_2-3.1.0/en_phone_nlp_2/en_phone_nlp_2-3.1.0/vocab\n",
      "Writing en_phone_nlp_2-3.1.0/setup.cfg\n",
      "creating dist\n",
      "Creating tar archive\n",
      "removing 'en_phone_nlp_2-3.1.0' (and everything under it)\n",
      "\u001b[38;5;2m✔ Successfully created zipped Python package\u001b[0m\n",
      "spacy_rules_ner/packaged_phone_nlp/en_phone_nlp_2-3.1.0/dist/en_phone_nlp_2-3.1.0.tar.gz\n"
     ]
    }
   ],
   "source": [
    "# now let us package the `phone_nlp`\n",
    "\n",
    "!python3 -m spacy package ./spacy_rules_ner/phone_nlp ./spacy_rules_ner/packaged_phone_nlp --code spacy_rules_ner/phone_functions.py --name phone_nlp_2"
   ]
  },
  {
   "cell_type": "markdown",
   "id": "278eb068",
   "metadata": {},
   "source": [
    "> The generated `tar.gz` files can be shared and pip installed"
   ]
  },
  {
   "cell_type": "code",
   "execution_count": 137,
   "id": "58aadc35",
   "metadata": {},
   "outputs": [
    {
     "name": "stdout",
     "output_type": "stream",
     "text": [
      "Defaulting to user installation because normal site-packages is not writeable\n",
      "Processing ./spacy_rules_ner/packaged_phone_nlp/en_phone_nlp_2-3.1.0/dist/en_phone_nlp_2-3.1.0.tar.gz\n",
      "  Preparing metadata (setup.py) ... \u001b[?25ldone\n",
      "\u001b[?25hRequirement already satisfied: spacy<3.2.0,>=3.1.3 in /usr/local/lib/python3.7/dist-packages (from en-phone-nlp-2==3.1.0) (3.1.3)\n",
      "Requirement already satisfied: requests<3.0.0,>=2.13.0 in /usr/local/lib/python3.7/dist-packages (from spacy<3.2.0,>=3.1.3->en-phone-nlp-2==3.1.0) (2.26.0)\n",
      "Requirement already satisfied: preshed<3.1.0,>=3.0.2 in /usr/local/lib/python3.7/dist-packages (from spacy<3.2.0,>=3.1.3->en-phone-nlp-2==3.1.0) (3.0.5)\n",
      "Requirement already satisfied: pathy>=0.3.5 in /usr/local/lib/python3.7/dist-packages (from spacy<3.2.0,>=3.1.3->en-phone-nlp-2==3.1.0) (0.6.0)\n",
      "Requirement already satisfied: typer<0.5.0,>=0.3.0 in /usr/local/lib/python3.7/dist-packages (from spacy<3.2.0,>=3.1.3->en-phone-nlp-2==3.1.0) (0.4.0)\n",
      "Requirement already satisfied: srsly<3.0.0,>=2.4.1 in /usr/local/lib/python3.7/dist-packages (from spacy<3.2.0,>=3.1.3->en-phone-nlp-2==3.1.0) (2.4.1)\n",
      "Requirement already satisfied: catalogue<2.1.0,>=2.0.6 in /usr/local/lib/python3.7/dist-packages (from spacy<3.2.0,>=3.1.3->en-phone-nlp-2==3.1.0) (2.0.6)\n",
      "Requirement already satisfied: typing-extensions<4.0.0.0,>=3.7.4 in /usr/local/lib/python3.7/dist-packages (from spacy<3.2.0,>=3.1.3->en-phone-nlp-2==3.1.0) (3.10.0.2)\n",
      "Requirement already satisfied: pydantic!=1.8,!=1.8.1,<1.9.0,>=1.7.4 in /usr/local/lib/python3.7/dist-packages (from spacy<3.2.0,>=3.1.3->en-phone-nlp-2==3.1.0) (1.8.2)\n",
      "Requirement already satisfied: thinc<8.1.0,>=8.0.9 in /usr/local/lib/python3.7/dist-packages (from spacy<3.2.0,>=3.1.3->en-phone-nlp-2==3.1.0) (8.0.10)\n",
      "Requirement already satisfied: tqdm<5.0.0,>=4.38.0 in /usr/local/lib/python3.7/dist-packages (from spacy<3.2.0,>=3.1.3->en-phone-nlp-2==3.1.0) (4.62.2)\n",
      "Requirement already satisfied: jinja2 in /usr/local/lib/python3.7/dist-packages (from spacy<3.2.0,>=3.1.3->en-phone-nlp-2==3.1.0) (3.0.1)\n",
      "Requirement already satisfied: blis<0.8.0,>=0.4.0 in /usr/local/lib/python3.7/dist-packages (from spacy<3.2.0,>=3.1.3->en-phone-nlp-2==3.1.0) (0.7.4)\n",
      "Requirement already satisfied: setuptools in /usr/local/lib/python3.7/dist-packages (from spacy<3.2.0,>=3.1.3->en-phone-nlp-2==3.1.0) (59.1.1)\n",
      "Requirement already satisfied: packaging>=20.0 in /usr/local/lib/python3.7/dist-packages (from spacy<3.2.0,>=3.1.3->en-phone-nlp-2==3.1.0) (21.0)\n",
      "Requirement already satisfied: cymem<2.1.0,>=2.0.2 in /usr/local/lib/python3.7/dist-packages (from spacy<3.2.0,>=3.1.3->en-phone-nlp-2==3.1.0) (2.0.5)\n",
      "Requirement already satisfied: spacy-legacy<3.1.0,>=3.0.8 in /usr/local/lib/python3.7/dist-packages (from spacy<3.2.0,>=3.1.3->en-phone-nlp-2==3.1.0) (3.0.8)\n",
      "Requirement already satisfied: murmurhash<1.1.0,>=0.28.0 in /usr/local/lib/python3.7/dist-packages (from spacy<3.2.0,>=3.1.3->en-phone-nlp-2==3.1.0) (1.0.5)\n",
      "Requirement already satisfied: wasabi<1.1.0,>=0.8.1 in /usr/local/lib/python3.7/dist-packages (from spacy<3.2.0,>=3.1.3->en-phone-nlp-2==3.1.0) (0.8.2)\n",
      "Requirement already satisfied: numpy>=1.15.0 in /usr/local/lib/python3.7/dist-packages (from spacy<3.2.0,>=3.1.3->en-phone-nlp-2==3.1.0) (1.21.2)\n",
      "Requirement already satisfied: zipp>=0.5 in /usr/local/lib/python3.7/dist-packages (from catalogue<2.1.0,>=2.0.6->spacy<3.2.0,>=3.1.3->en-phone-nlp-2==3.1.0) (3.5.0)\n",
      "Requirement already satisfied: pyparsing>=2.0.2 in /usr/local/lib/python3.7/dist-packages (from packaging>=20.0->spacy<3.2.0,>=3.1.3->en-phone-nlp-2==3.1.0) (2.4.7)\n",
      "Requirement already satisfied: smart-open<6.0.0,>=5.0.0 in /usr/local/lib/python3.7/dist-packages (from pathy>=0.3.5->spacy<3.2.0,>=3.1.3->en-phone-nlp-2==3.1.0) (5.2.1)\n",
      "Requirement already satisfied: certifi>=2017.4.17 in /usr/lib/python3/dist-packages (from requests<3.0.0,>=2.13.0->spacy<3.2.0,>=3.1.3->en-phone-nlp-2==3.1.0) (2019.11.28)\n",
      "Requirement already satisfied: charset-normalizer~=2.0.0 in /usr/local/lib/python3.7/dist-packages (from requests<3.0.0,>=2.13.0->spacy<3.2.0,>=3.1.3->en-phone-nlp-2==3.1.0) (2.0.7)\n",
      "Requirement already satisfied: idna<4,>=2.5 in /usr/lib/python3/dist-packages (from requests<3.0.0,>=2.13.0->spacy<3.2.0,>=3.1.3->en-phone-nlp-2==3.1.0) (2.8)\n",
      "Requirement already satisfied: urllib3<1.27,>=1.21.1 in /usr/lib/python3/dist-packages (from requests<3.0.0,>=2.13.0->spacy<3.2.0,>=3.1.3->en-phone-nlp-2==3.1.0) (1.25.8)\n",
      "Requirement already satisfied: click<9.0.0,>=7.1.1 in /usr/local/lib/python3.7/dist-packages (from typer<0.5.0,>=0.3.0->spacy<3.2.0,>=3.1.3->en-phone-nlp-2==3.1.0) (7.1.2)\n",
      "Requirement already satisfied: MarkupSafe>=2.0 in /usr/local/lib/python3.7/dist-packages (from jinja2->spacy<3.2.0,>=3.1.3->en-phone-nlp-2==3.1.0) (2.0.1)\n",
      "Building wheels for collected packages: en-phone-nlp-2\n",
      "  Building wheel for en-phone-nlp-2 (setup.py) ... \u001b[?25ldone\n",
      "\u001b[?25h  Created wheel for en-phone-nlp-2: filename=en_phone_nlp_2-3.1.0-py3-none-any.whl size=13618384 sha256=86d51e0f37b26c932184654dd4b82ad7475f0cf41d1e32499263b505a4ea151a\n",
      "  Stored in directory: /path/to/dir/.cache/pip/wheels/04/04/8d/81eaf26a25f7dfa433e1be3ad7e6524e81e9a4172a3d9d0d06\n",
      "Successfully built en-phone-nlp-2\n",
      "Installing collected packages: en-phone-nlp-2\n",
      "Successfully installed en-phone-nlp-2-3.1.0\n",
      "\u001b[33mWARNING: You are using pip version 21.3.1; however, version 22.1 is available.\n",
      "You should consider upgrading via the '/usr/bin/python3 -m pip install --upgrade pip' command.\u001b[0m\n"
     ]
    }
   ],
   "source": [
    "!pip install spacy_rules_ner/packaged_phone_nlp/en_phone_nlp_2-3.1.0/dist/en_phone_nlp_2-3.1.0.tar.gz"
   ]
  },
  {
   "cell_type": "code",
   "execution_count": 138,
   "id": "82566e7b",
   "metadata": {},
   "outputs": [
    {
     "name": "stdout",
     "output_type": "stream",
     "text": [
      "Pipeline Components before adding regex custom component:\n",
      "['tok2vec', 'tagger', 'parser', 'attribute_ruler', 'lemmatizer', 'phone_nlp_rules']\n",
      "\n",
      "Entities tracked in phone_nlp_rules\n",
      "['PHONE']\n",
      "Pipeline Components after adding regex custom component:\n",
      "['tok2vec', 'tagger', 'parser', 'attribute_ruler', 'lemmatizer', 'phone_nlp_rules', 'phone_multitoken_regex_capture']\n"
     ]
    }
   ],
   "source": [
    "phone_nlp_new = spacy.load('en_phone_nlp_2')"
   ]
  },
  {
   "cell_type": "code",
   "execution_count": 139,
   "id": "f15562b9",
   "metadata": {},
   "outputs": [
    {
     "name": "stdout",
     "output_type": "stream",
     "text": [
      "\u001b[1mProcessing Sentence 0 \u001b[1m\n"
     ]
    },
    {
     "data": {
      "text/html": [
       "<span class=\"tex2jax_ignore\"><div class=\"entities\" style=\"line-height: 2.5; direction: ltr\">If you want to talk more. Reach me at \n",
       "<mark class=\"entity\" style=\"background: #ddd; padding: 0.45em 0.6em; margin: 0 0.25em; line-height: 1; border-radius: 0.35em;\">\n",
       "    +1 (901)-985-4567\n",
       "    <span style=\"font-size: 0.8em; font-weight: bold; line-height: 1; border-radius: 0.35em; vertical-align: middle; margin-left: 0.5rem\">PHONE</span>\n",
       "</mark>\n",
       "</div></span>"
      ],
      "text/plain": [
       "<IPython.core.display.HTML object>"
      ]
     },
     "metadata": {},
     "output_type": "display_data"
    },
    {
     "name": "stdout",
     "output_type": "stream",
     "text": [
      "\u001b[1mProcessing Sentence 1 \u001b[1m\n"
     ]
    },
    {
     "data": {
      "text/html": [
       "<span class=\"tex2jax_ignore\"><div class=\"entities\" style=\"line-height: 2.5; direction: ltr\">If you want to talk more. Reach me at \n",
       "<mark class=\"entity\" style=\"background: #ddd; padding: 0.45em 0.6em; margin: 0 0.25em; line-height: 1; border-radius: 0.35em;\">\n",
       "    +1(901)-985-4567\n",
       "    <span style=\"font-size: 0.8em; font-weight: bold; line-height: 1; border-radius: 0.35em; vertical-align: middle; margin-left: 0.5rem\">PHONE</span>\n",
       "</mark>\n",
       "</div></span>"
      ],
      "text/plain": [
       "<IPython.core.display.HTML object>"
      ]
     },
     "metadata": {},
     "output_type": "display_data"
    },
    {
     "name": "stdout",
     "output_type": "stream",
     "text": [
      "\u001b[1mProcessing Sentence 2 \u001b[1m\n"
     ]
    },
    {
     "data": {
      "text/html": [
       "<span class=\"tex2jax_ignore\"><div class=\"entities\" style=\"line-height: 2.5; direction: ltr\">If you want to talk more. Reach me at \n",
       "<mark class=\"entity\" style=\"background: #ddd; padding: 0.45em 0.6em; margin: 0 0.25em; line-height: 1; border-radius: 0.35em;\">\n",
       "    (901) 985 4567\n",
       "    <span style=\"font-size: 0.8em; font-weight: bold; line-height: 1; border-radius: 0.35em; vertical-align: middle; margin-left: 0.5rem\">PHONE</span>\n",
       "</mark>\n",
       "</div></span>"
      ],
      "text/plain": [
       "<IPython.core.display.HTML object>"
      ]
     },
     "metadata": {},
     "output_type": "display_data"
    },
    {
     "name": "stdout",
     "output_type": "stream",
     "text": [
      "\u001b[1mProcessing Sentence 3 \u001b[1m\n"
     ]
    },
    {
     "data": {
      "text/html": [
       "<span class=\"tex2jax_ignore\"><div class=\"entities\" style=\"line-height: 2.5; direction: ltr\">If you want to talk more. Reach me at \n",
       "<mark class=\"entity\" style=\"background: #ddd; padding: 0.45em 0.6em; margin: 0 0.25em; line-height: 1; border-radius: 0.35em;\">\n",
       "    9019854567\n",
       "    <span style=\"font-size: 0.8em; font-weight: bold; line-height: 1; border-radius: 0.35em; vertical-align: middle; margin-left: 0.5rem\">PHONE</span>\n",
       "</mark>\n",
       "</div></span>"
      ],
      "text/plain": [
       "<IPython.core.display.HTML object>"
      ]
     },
     "metadata": {},
     "output_type": "display_data"
    }
   ],
   "source": [
    "for i, doc in enumerate(phone_nlp_new.pipe(sample_phone_sentences,\n",
    "             as_tuples=False\n",
    "            )):\n",
    "    print(f\"\\033[1mProcessing Sentence {i} \\033[1m\")\n",
    "    displacy.render(doc,\n",
    "                    style='ent',\n",
    "                   )"
   ]
  },
  {
   "cell_type": "markdown",
   "id": "7ee72cc7",
   "metadata": {},
   "source": [
    "## 5. Conclusion"
   ]
  },
  {
   "cell_type": "markdown",
   "id": "db6702de",
   "metadata": {},
   "source": [
    "- By building ner rules models for `MODEL_NAMES`, `PHONE` and `ADDRESS` entities we discussed the following concepts:\n",
    "    - Spacy's Token Matcher, Phrase Matcher and our own custom component Regex Matcher\n",
    "    - How to load Spacy patterns from a json file\n",
    "    - How to chain NER entities\n",
    "    - How to save and load ner pipeline with custome component"
   ]
  },
  {
   "cell_type": "markdown",
   "id": "e838e6c8",
   "metadata": {},
   "source": [
    "## References\n",
    "\n",
    "- Spacy Rules based Matching | [link](https://spacy.io/usage/rule-based-matching)"
   ]
  }
 ],
 "metadata": {
  "kernelspec": {
   "display_name": "Python 3 (ipykernel)",
   "language": "python",
   "name": "python3"
  },
  "language_info": {
   "codemirror_mode": {
    "name": "ipython",
    "version": 3
   },
   "file_extension": ".py",
   "mimetype": "text/x-python",
   "name": "python",
   "nbconvert_exporter": "python",
   "pygments_lexer": "ipython3",
   "version": "3.9.7"
  }
 },
 "nbformat": 4,
 "nbformat_minor": 5
}
