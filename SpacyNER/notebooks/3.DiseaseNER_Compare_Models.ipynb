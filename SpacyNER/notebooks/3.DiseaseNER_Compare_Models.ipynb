{
 "cells": [
  {
   "cell_type": "code",
   "execution_count": 22,
   "id": "de62b890",
   "metadata": {},
   "outputs": [],
   "source": [
    "import pandas as pd"
   ]
  },
  {
   "cell_type": "code",
   "execution_count": 4,
   "id": "23591864",
   "metadata": {},
   "outputs": [],
   "source": [
    "SPACY_DATA_DIR = '../data/diease_ner/train_dev_test_split_spacy_binary/'"
   ]
  },
  {
   "cell_type": "code",
   "execution_count": 5,
   "id": "969654d6",
   "metadata": {},
   "outputs": [
    {
     "name": "stdout",
     "output_type": "stream",
     "text": [
      "dev_data.spacy\ttest_data.spacy  train_data.spacy\r\n"
     ]
    }
   ],
   "source": [
    "!ls $SPACY_DATA_DIR"
   ]
  },
  {
   "cell_type": "code",
   "execution_count": 7,
   "id": "5597e4f0",
   "metadata": {},
   "outputs": [
    {
     "name": "stdout",
     "output_type": "stream",
     "text": [
      "spacy_roberta_base_  spacy_rules  spacy_rules_packaged_model  spacy_small\r\n"
     ]
    }
   ],
   "source": [
    "!ls ../data/model_weights/"
   ]
  },
  {
   "cell_type": "markdown",
   "id": "e1410cd8",
   "metadata": {},
   "source": [
    "### Evaluate Spacy Rules Model"
   ]
  },
  {
   "cell_type": "markdown",
   "id": "941bb4b7",
   "metadata": {},
   "source": [
    "Installing the spacy rules model"
   ]
  },
  {
   "cell_type": "code",
   "execution_count": 1,
   "id": "6960249e",
   "metadata": {},
   "outputs": [
    {
     "name": "stdout",
     "output_type": "stream",
     "text": [
      "Defaulting to user installation because normal site-packages is not writeable\n",
      "Processing /path/to/dir/spacy_model_training_ner/data/model_weights/spacy_rules_packaged_model/en_disease_ner_rules-3.3.0/dist/en_disease_ner_rules-3.3.0.tar.gz\n",
      "  Preparing metadata (setup.py) ... \u001b[?25ldone\n",
      "\u001b[?25hRequirement already satisfied: spacy<3.4.0,>=3.3.0 in /opt/conda/lib/python3.7/site-packages (from en-disease-ner-rules==3.3.0) (3.3.0)\n",
      "Requirement already satisfied: murmurhash<1.1.0,>=0.28.0 in /opt/conda/lib/python3.7/site-packages (from spacy<3.4.0,>=3.3.0->en-disease-ner-rules==3.3.0) (1.0.7)\n",
      "Requirement already satisfied: typing-extensions<4.0.0.0,>=3.7.4 in /opt/conda/lib/python3.7/site-packages (from spacy<3.4.0,>=3.3.0->en-disease-ner-rules==3.3.0) (3.7.4.3)\n",
      "Requirement already satisfied: jinja2 in /opt/conda/lib/python3.7/site-packages (from spacy<3.4.0,>=3.3.0->en-disease-ner-rules==3.3.0) (3.0.0)\n",
      "Requirement already satisfied: requests<3.0.0,>=2.13.0 in /opt/conda/lib/python3.7/site-packages (from spacy<3.4.0,>=3.3.0->en-disease-ner-rules==3.3.0) (2.24.0)\n",
      "Requirement already satisfied: blis<0.8.0,>=0.4.0 in /opt/conda/lib/python3.7/site-packages (from spacy<3.4.0,>=3.3.0->en-disease-ner-rules==3.3.0) (0.7.7)\n",
      "Requirement already satisfied: srsly<3.0.0,>=2.4.3 in /opt/conda/lib/python3.7/site-packages (from spacy<3.4.0,>=3.3.0->en-disease-ner-rules==3.3.0) (2.4.3)\n",
      "Requirement already satisfied: packaging>=20.0 in /opt/conda/lib/python3.7/site-packages (from spacy<3.4.0,>=3.3.0->en-disease-ner-rules==3.3.0) (21.3)\n",
      "Requirement already satisfied: wasabi<1.1.0,>=0.9.1 in /opt/conda/lib/python3.7/site-packages (from spacy<3.4.0,>=3.3.0->en-disease-ner-rules==3.3.0) (0.9.1)\n",
      "Requirement already satisfied: catalogue<2.1.0,>=2.0.6 in /opt/conda/lib/python3.7/site-packages (from spacy<3.4.0,>=3.3.0->en-disease-ner-rules==3.3.0) (2.0.7)\n",
      "Requirement already satisfied: pydantic!=1.8,!=1.8.1,<1.9.0,>=1.7.4 in /opt/conda/lib/python3.7/site-packages (from spacy<3.4.0,>=3.3.0->en-disease-ner-rules==3.3.0) (1.8.2)\n",
      "Requirement already satisfied: pathy>=0.3.5 in /opt/conda/lib/python3.7/site-packages (from spacy<3.4.0,>=3.3.0->en-disease-ner-rules==3.3.0) (0.6.1)\n",
      "Requirement already satisfied: numpy>=1.15.0 in /opt/conda/lib/python3.7/site-packages (from spacy<3.4.0,>=3.3.0->en-disease-ner-rules==3.3.0) (1.21.6)\n",
      "Requirement already satisfied: preshed<3.1.0,>=3.0.2 in /opt/conda/lib/python3.7/site-packages (from spacy<3.4.0,>=3.3.0->en-disease-ner-rules==3.3.0) (3.0.6)\n",
      "Requirement already satisfied: cymem<2.1.0,>=2.0.2 in /opt/conda/lib/python3.7/site-packages (from spacy<3.4.0,>=3.3.0->en-disease-ner-rules==3.3.0) (2.0.6)\n",
      "Requirement already satisfied: thinc<8.1.0,>=8.0.14 in /opt/conda/lib/python3.7/site-packages (from spacy<3.4.0,>=3.3.0->en-disease-ner-rules==3.3.0) (8.0.16)\n",
      "Requirement already satisfied: langcodes<4.0.0,>=3.2.0 in /opt/conda/lib/python3.7/site-packages (from spacy<3.4.0,>=3.3.0->en-disease-ner-rules==3.3.0) (3.3.0)\n",
      "Requirement already satisfied: spacy-loggers<2.0.0,>=1.0.0 in /opt/conda/lib/python3.7/site-packages (from spacy<3.4.0,>=3.3.0->en-disease-ner-rules==3.3.0) (1.0.2)\n",
      "Requirement already satisfied: typer<0.5.0,>=0.3.0 in /opt/conda/lib/python3.7/site-packages (from spacy<3.4.0,>=3.3.0->en-disease-ner-rules==3.3.0) (0.4.1)\n",
      "Requirement already satisfied: tqdm<5.0.0,>=4.38.0 in /opt/conda/lib/python3.7/site-packages (from spacy<3.4.0,>=3.3.0->en-disease-ner-rules==3.3.0) (4.64.0)\n",
      "Requirement already satisfied: spacy-legacy<3.1.0,>=3.0.9 in /opt/conda/lib/python3.7/site-packages (from spacy<3.4.0,>=3.3.0->en-disease-ner-rules==3.3.0) (3.0.9)\n",
      "Requirement already satisfied: setuptools in /opt/conda/lib/python3.7/site-packages (from spacy<3.4.0,>=3.3.0->en-disease-ner-rules==3.3.0) (62.3.2)\n",
      "Requirement already satisfied: zipp>=0.5 in /opt/conda/lib/python3.7/site-packages (from catalogue<2.1.0,>=2.0.6->spacy<3.4.0,>=3.3.0->en-disease-ner-rules==3.3.0) (3.8.0)\n",
      "Requirement already satisfied: pyparsing!=3.0.5,>=2.0.2 in /opt/conda/lib/python3.7/site-packages (from packaging>=20.0->spacy<3.4.0,>=3.3.0->en-disease-ner-rules==3.3.0) (3.0.9)\n",
      "Requirement already satisfied: smart-open<6.0.0,>=5.0.0 in /opt/conda/lib/python3.7/site-packages (from pathy>=0.3.5->spacy<3.4.0,>=3.3.0->en-disease-ner-rules==3.3.0) (5.2.1)\n",
      "Requirement already satisfied: urllib3!=1.25.0,!=1.25.1,<1.26,>=1.21.1 in /opt/conda/lib/python3.7/site-packages (from requests<3.0.0,>=2.13.0->spacy<3.4.0,>=3.3.0->en-disease-ner-rules==3.3.0) (1.25.11)\n",
      "Requirement already satisfied: chardet<4,>=3.0.2 in /opt/conda/lib/python3.7/site-packages (from requests<3.0.0,>=2.13.0->spacy<3.4.0,>=3.3.0->en-disease-ner-rules==3.3.0) (3.0.4)\n",
      "Requirement already satisfied: certifi>=2017.4.17 in /opt/conda/lib/python3.7/site-packages (from requests<3.0.0,>=2.13.0->spacy<3.4.0,>=3.3.0->en-disease-ner-rules==3.3.0) (2021.5.30)\n",
      "Requirement already satisfied: idna<3,>=2.5 in /opt/conda/lib/python3.7/site-packages (from requests<3.0.0,>=2.13.0->spacy<3.4.0,>=3.3.0->en-disease-ner-rules==3.3.0) (2.10)\n",
      "Requirement already satisfied: click<9.0.0,>=7.1.1 in /opt/conda/lib/python3.7/site-packages (from typer<0.5.0,>=0.3.0->spacy<3.4.0,>=3.3.0->en-disease-ner-rules==3.3.0) (8.1.3)\n",
      "Requirement already satisfied: MarkupSafe>=2.0.0rc2 in /opt/conda/lib/python3.7/site-packages (from jinja2->spacy<3.4.0,>=3.3.0->en-disease-ner-rules==3.3.0) (2.0.1)\n",
      "Requirement already satisfied: importlib-metadata in /opt/conda/lib/python3.7/site-packages (from click<9.0.0,>=7.1.1->typer<0.5.0,>=0.3.0->spacy<3.4.0,>=3.3.0->en-disease-ner-rules==3.3.0) (4.11.3)\n",
      "Building wheels for collected packages: en-disease-ner-rules\n",
      "  Building wheel for en-disease-ner-rules (setup.py) ... \u001b[?25ldone\n",
      "\u001b[?25h  Created wheel for en-disease-ner-rules: filename=en_disease_ner_rules-3.3.0-py3-none-any.whl size=12839630 sha256=5f435166e92b520ded059cafdec52d6e89a76995b96fc3047654488fd7b808d5\n",
      "  Stored in directory: /s/msenth40/.cache/pip/wheels/0b/de/e0/546d6c166d937eab3b9f8b475c37baa887170b2c620fdfe90a\n",
      "Successfully built en-disease-ner-rules\n",
      "Installing collected packages: en-disease-ner-rules\n",
      "Successfully installed en-disease-ner-rules-3.3.0\n",
      "\u001b[33mWARNING: There was an error checking the latest version of pip.\u001b[0m\u001b[33m\n",
      "\u001b[0m"
     ]
    }
   ],
   "source": [
    "!pip install ../data/model_weights/spacy_rules_packaged_model/en_disease_ner_rules-3.3.0/dist/en_disease_ner_rules-3.3.0.tar.gz"
   ]
  },
  {
   "cell_type": "code",
   "execution_count": 8,
   "id": "64e6ca2e",
   "metadata": {},
   "outputs": [],
   "source": [
    "SPACY_RULES_MODEL =  'en_disease_ner_rules'"
   ]
  },
  {
   "cell_type": "code",
   "execution_count": 11,
   "id": "ab65cce0",
   "metadata": {},
   "outputs": [
    {
     "name": "stdout",
     "output_type": "stream",
     "text": [
      "\u001b[38;5;4mℹ Using CPU\u001b[0m\n",
      "\u001b[38;5;4mℹ To switch to GPU 0, use the option: --gpu-id 0\u001b[0m\n",
      "\u001b[1m\n",
      "================================== Results ==================================\u001b[0m\n",
      "\n",
      "TOK      -    \n",
      "TAG      0.00 \n",
      "POS      -    \n",
      "MORPH    -    \n",
      "LEMMA    -    \n",
      "UAS      -    \n",
      "LAS      -    \n",
      "NER P    39.85\n",
      "NER R    22.21\n",
      "NER F    28.52\n",
      "SENT P   92.80\n",
      "SENT R   97.12\n",
      "SENT F   94.91\n",
      "SPEED    6725 \n",
      "\n",
      "\u001b[1m\n",
      "=============================== NER (per type) ===============================\u001b[0m\n",
      "\n",
      "              P       R       F\n",
      "DISEASE   39.85   22.21   28.52\n",
      "\n",
      "\u001b[38;5;2m✔ Saved results to\n",
      "../data/model_weights/spacy_rules/spacy_small_model_evaluation.json\u001b[0m\n"
     ]
    }
   ],
   "source": [
    "!python3 -m spacy evaluate $SPACY_RULES_MODEL  $SPACY_DATA_DIR/test_data.spacy \\\n",
    "--output ../data/model_weights/spacy_rules/spacy_small_model_evaluation.json "
   ]
  },
  {
   "cell_type": "markdown",
   "id": "2af1610d",
   "metadata": {},
   "source": [
    "### Evaluate Trained Spacy Small Model"
   ]
  },
  {
   "cell_type": "code",
   "execution_count": 12,
   "id": "364167bc",
   "metadata": {},
   "outputs": [],
   "source": [
    "SPACY_SMALL_MODEL_DIR_GPU = '../data/model_weights/spacy_small'"
   ]
  },
  {
   "cell_type": "code",
   "execution_count": 13,
   "id": "9babee41",
   "metadata": {},
   "outputs": [
    {
     "name": "stdout",
     "output_type": "stream",
     "text": [
      "model-best  model-last\r\n"
     ]
    }
   ],
   "source": [
    "!ls $SPACY_SMALL_MODEL_DIR_GPU"
   ]
  },
  {
   "cell_type": "code",
   "execution_count": 14,
   "id": "d40efad2",
   "metadata": {},
   "outputs": [
    {
     "name": "stdout",
     "output_type": "stream",
     "text": [
      "\u001b[38;5;4mℹ Using GPU: 0\u001b[0m\n",
      "\u001b[1m\n",
      "================================== Results ==================================\u001b[0m\n",
      "\n",
      "TOK     -    \n",
      "NER P   89.75\n",
      "NER R   82.81\n",
      "NER F   86.14\n",
      "SPEED   20752\n",
      "\n",
      "\u001b[1m\n",
      "=============================== NER (per type) ===============================\u001b[0m\n",
      "\n",
      "              P       R       F\n",
      "DISEASE   89.75   82.81   86.14\n",
      "\n",
      "\u001b[38;5;2m✔ Saved results to\n",
      "../data/model_weights/spacy_small/model-best/spacy_small_model_evaluation.json\u001b[0m\n"
     ]
    }
   ],
   "source": [
    "!python3 -m spacy evaluate $SPACY_SMALL_MODEL_DIR_GPU/model-best $SPACY_DATA_DIR/test_data.spacy \\\n",
    "--output $SPACY_SMALL_MODEL_DIR_GPU/model-best/spacy_small_model_evaluation.json \\\n",
    "--gpu-id 0"
   ]
  },
  {
   "cell_type": "markdown",
   "id": "b3554d10",
   "metadata": {},
   "source": [
    "### Evaluate Spacy Roberta Base Model"
   ]
  },
  {
   "cell_type": "code",
   "execution_count": 15,
   "id": "c40842ba",
   "metadata": {},
   "outputs": [],
   "source": [
    "SPACY_ROBERTA_MODEL_DIR_GPU = '../data/model_weights/spacy_roberta_base_'"
   ]
  },
  {
   "cell_type": "code",
   "execution_count": 16,
   "id": "b5d34078",
   "metadata": {},
   "outputs": [
    {
     "name": "stdout",
     "output_type": "stream",
     "text": [
      "model-best  model-last\r\n"
     ]
    }
   ],
   "source": [
    "!ls $SPACY_ROBERTA_MODEL_DIR_GPU"
   ]
  },
  {
   "cell_type": "code",
   "execution_count": 18,
   "id": "b30b84d2",
   "metadata": {},
   "outputs": [
    {
     "name": "stdout",
     "output_type": "stream",
     "text": [
      "\u001b[38;5;4mℹ Using GPU: 0\u001b[0m\n",
      "\u001b[1m\n",
      "================================== Results ==================================\u001b[0m\n",
      "\n",
      "TOK     -    \n",
      "NER P   88.61\n",
      "NER R   90.26\n",
      "NER F   89.43\n",
      "SPEED   12020\n",
      "\n",
      "\u001b[1m\n",
      "=============================== NER (per type) ===============================\u001b[0m\n",
      "\n",
      "              P       R       F\n",
      "DISEASE   88.61   90.26   89.43\n",
      "\n",
      "\u001b[38;5;2m✔ Saved results to\n",
      "../data/model_weights/spacy_roberta_base_/model-best/spacy_roberta_base_evaluation.json\u001b[0m\n"
     ]
    }
   ],
   "source": [
    "!python3 -m spacy evaluate $SPACY_ROBERTA_MODEL_DIR_GPU/model-best $SPACY_DATA_DIR/test_data.spacy \\\n",
    "--output $SPACY_ROBERTA_MODEL_DIR_GPU/model-best/spacy_roberta_base_evaluation.json \\\n",
    "--gpu-id 0"
   ]
  },
  {
   "cell_type": "code",
   "execution_count": 20,
   "id": "dca4375f",
   "metadata": {},
   "outputs": [
    {
     "name": "stdout",
     "output_type": "stream",
     "text": [
      "{\r\n",
      "  \"token_acc\":null,\r\n",
      "  \"token_p\":null,\r\n",
      "  \"token_r\":null,\r\n",
      "  \"token_f\":null,\r\n",
      "  \"ents_p\":0.8860759494,\r\n",
      "  \"ents_r\":0.9025787966,\r\n",
      "  \"ents_f\":0.894251242,\r\n",
      "  \"ents_per_type\":{\r\n",
      "    \"DISEASE\":{\r\n",
      "      \"p\":0.8860759494,\r\n",
      "      \"r\":0.9025787966,\r\n",
      "      \"f\":0.894251242\r\n",
      "    }\r\n",
      "  },\r\n",
      "  \"speed\":12020.184192572\r\n",
      "}"
     ]
    }
   ],
   "source": [
    "!cat ../data/model_weights/spacy_roberta_base_/model-best/spacy_roberta_base_evaluation.json"
   ]
  },
  {
   "cell_type": "code",
   "execution_count": 24,
   "id": "b77f9eb1",
   "metadata": {},
   "outputs": [],
   "source": [
    "list_of_results = [(39.85,2.21,28.52),(89.75, 82.81, 86.14),(88.61,90.26,89.43)]\n",
    "results = pd.DataFrame(list_of_results,columns=['Precision','Recall','F1_Score'],index=['Rules_Model', 'Spacy_Small_Model', 'Spacy_Roberta_Base_Model'])"
   ]
  },
  {
   "cell_type": "code",
   "execution_count": 25,
   "id": "e76e7ec4",
   "metadata": {},
   "outputs": [
    {
     "data": {
      "text/html": [
       "<div>\n",
       "<style scoped>\n",
       "    .dataframe tbody tr th:only-of-type {\n",
       "        vertical-align: middle;\n",
       "    }\n",
       "\n",
       "    .dataframe tbody tr th {\n",
       "        vertical-align: top;\n",
       "    }\n",
       "\n",
       "    .dataframe thead th {\n",
       "        text-align: right;\n",
       "    }\n",
       "</style>\n",
       "<table border=\"1\" class=\"dataframe\">\n",
       "  <thead>\n",
       "    <tr style=\"text-align: right;\">\n",
       "      <th></th>\n",
       "      <th>Precision</th>\n",
       "      <th>Recall</th>\n",
       "      <th>F1_Score</th>\n",
       "    </tr>\n",
       "  </thead>\n",
       "  <tbody>\n",
       "    <tr>\n",
       "      <th>Rules_Model</th>\n",
       "      <td>39.85</td>\n",
       "      <td>2.21</td>\n",
       "      <td>28.52</td>\n",
       "    </tr>\n",
       "    <tr>\n",
       "      <th>Spacy_Small_Model</th>\n",
       "      <td>89.75</td>\n",
       "      <td>82.81</td>\n",
       "      <td>86.14</td>\n",
       "    </tr>\n",
       "    <tr>\n",
       "      <th>Spacy_Roberta_Base_Model</th>\n",
       "      <td>88.61</td>\n",
       "      <td>90.26</td>\n",
       "      <td>89.43</td>\n",
       "    </tr>\n",
       "  </tbody>\n",
       "</table>\n",
       "</div>"
      ],
      "text/plain": [
       "                          Precision  Recall  F1_Score\n",
       "Rules_Model                   39.85    2.21     28.52\n",
       "Spacy_Small_Model             89.75   82.81     86.14\n",
       "Spacy_Roberta_Base_Model      88.61   90.26     89.43"
      ]
     },
     "execution_count": 25,
     "metadata": {},
     "output_type": "execute_result"
    }
   ],
   "source": [
    "results"
   ]
  },
  {
   "cell_type": "code",
   "execution_count": 27,
   "id": "9900886f",
   "metadata": {},
   "outputs": [],
   "source": [
    "results.to_csv('spacy_model_ner/results_of_the_models.csv')"
   ]
  }
 ],
 "metadata": {
  "kernelspec": {
   "display_name": "Python 3 (ipykernel)",
   "language": "python",
   "name": "python3"
  },
  "language_info": {
   "codemirror_mode": {
    "name": "ipython",
    "version": 3
   },
   "file_extension": ".py",
   "mimetype": "text/x-python",
   "name": "python",
   "nbconvert_exporter": "python",
   "pygments_lexer": "ipython3",
   "version": "3.7.10"
  }
 },
 "nbformat": 4,
 "nbformat_minor": 5
}
